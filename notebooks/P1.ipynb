{
 "cells": [
  {
   "cell_type": "markdown",
   "metadata": {},
   "source": [
    "#### Notebook's structure:\n",
    " \n",
    " ##### Gather and assess data: \n",
    " 1. Startup (for running need here local paths)\n",
    " 2. Data loading, target and id variables\n",
    " 3. Two possible target variables: Job Satisfaction and Income\n",
    " \n",
    " ##### Cleaning and visualisations:\n",
    " 4. Replacements and filtering\n",
    " 5. Handling missing data\n",
    " 6. Exploratory Analysis\n",
    " \n",
    " ##### Model\n",
    " 7. Handling multicolinearity and dimensionality reduction\n",
    " 8. Linear Model\n"
   ]
  },
  {
   "cell_type": "markdown",
   "metadata": {},
   "source": [
    "# 1. Startup"
   ]
  },
  {
   "cell_type": "code",
   "execution_count": 6,
   "metadata": {},
   "outputs": [],
   "source": [
    "# path to folder {...}notebooks/\n",
    "project_dir = \"/Volumes/Workspace/Workspace-Projekte/UdacityDSZ/Projekt1/schneeflocken/notebooks\"\n",
    "data_dir = project_dir + \"/data\"\n",
    "\n",
    "import sys\n",
    "sys.path.append(project_dir)\n"
   ]
  },
  {
   "cell_type": "markdown",
   "metadata": {},
   "source": [
    "As subject for this analysis data was downloaded from: https://insights.stackoverflow.com/survey\n",
    "* Because 2019 and 2020 have similar data structures, only data from these 2 years was combined.\n",
    "* Going to far back wouldn't be usefull, especiall in a rapidly changing Data Science (DS) working industry.\n",
    "\n",
    "<b>List of assumptions:</b>\n",
    "\t1. Countries have similar culture and economic level\n",
    "\t2. Users have similar expectations in life\n",
    "\t3. All groups are represented, no bias toward those that are actively on StackOverflow\n",
    "\t4. Salaries where given in same form, gross figures\n",
    "\t5. User submitted true information about themselves (such as salary)\n",
    "\t6. Job Satisfaction was reported by users without influence of recent events (eg just a one bad day, doesn’t make a 5 to 4)\n",
    "\t7. Users earn the proper amount of money, that is the fair income for their proficiency on their local markets\n",
    "\n",
    "One can already see the pattern here, most of them probably are not true; difficult or impossible to actually asses.\n",
    "\n",
    "<b><i>Since between countries cultural and economic differences exist, a reduced set was selected; initially US was considered in, partly because of data dimension, but the further exploratory analysis (EA) did not support keeping it, since the levels of income are much higher that the rest of european countries. \n",
    "Thus the final list includes almost entirely european countries: \"United Kingdom\", \"Ireland\", \"Canada\", \"Germany\", \"Austria\", \"Netherlands\", \"Sweeden\", \"Finland\", \"France\", \"Belgium\"</b></i>\n",
    "\n",
    "The interest here lies around following questions:\n",
    " - <p style=\"color:red\">Consider looking for a new DS job, what should be the fair price to ask?</p> Flipside this question and it becomes a cost consideration for a company: how much should a company calculate for costs on a new data scientist?\n",
    "<i>A <b>linear model</b> for income was derived that explains about 22% of the variance in data; for practical reasons an Excel was prepared where 5 models were brought together in a voting system, since they concentrate on various aspects (5 models: basics, self agency, company type, motivation to leave, education)\n",
    "</i>\n",
    "\n",
    " \n",
    " - <p style=\"color:red\">Do you need strong programming skills to perform well (in terms of income and satisfaction)?</p>\n",
    "<i> The combination between age and years of professional coding experience seem to be a constant on all models. This is not surprising, since this aspect is central to being able to do data science at a deeper level, if necessary.\n",
    "Models picked consistently feature YearsCodePro for an average of <b>+825 dollars</b> per year of professional coding experience.\n",
    "</i> \n",
    "        \n",
    " \n",
    " - <p style=\"color:red\">How does strong knowledge of maths and statistics play a role in a successful DS (both good salary and job satisfaction)?</p>\n",
    "<i> It seems for those that are at satisfaction levels of 4 and 5 relatively earn about the same <b>65k to 70k</b>\n",
    "These have either a <b>Computer Science degree, Mathematics, Statistics or Engineering</b>. Specializations in <b>business related disciplines</b> such as accountants, controlling and marketing are also earning better than other groups. This relation does not seem to hold consistently from country to country; for example in Germany a CS degree brings less than Mathematics but in Austria the relationship changes the sign. This could be related to local market situation, cultural differences or simply variance in the data, which makes assessing all countries difficult, even with the current selection. </i>\n",
    "\n",
    "\n",
    " - <p style=\"color:red\">Which programming languages are often involved?</p>\n",
    "<i> There is no suprise that <b>SQL (67%), Python (59%)</b>, Bash/Shell/PowerShell (50%) get often chosen as features, but the interesting thing in the result was that Python ofen gets negative weights. This could be explained with the hypothesis that knowing new languages (or some other language that is not popular) leads to a positive change in income. This hypothesis is supported by features like LanguageWorkedWith_Kotlin which got positive weights in several models</i> \n",
    "\n",
    "\n",
    " - <p style=\"color:red\">What makes a data scientist look for a new job?</p>\n",
    "<i>\n",
    "It seems between those that are not looking and those that might be interested (not looking actively) there isn’t a strong difference in earnings. This changes in case of those that are actively seeking, they tend to have <b>lower current average wages</b>. <br>\n",
    "This result is in accordance with the frequency table of the <b>NEWJobHunt</b> variable which shows that <b>„Better compensation“ represents 58% of all cases, while in 21.8% cases some conflict is involved </b> with either direct managers, company culture or even team members. <br>\n",
    "Not suprisingly job satisfaction correlates strongly with feature <b>JobSeek</b>: that is for lower values than or eual to 3, user are actively seeking, while at 4 they're could be interested. The only situation where no job is searched is at job satisfaction level 5.<br>\n",
    "These observations might be explained by:\n",
    "- Relative income on local market is more important than the absolute value\n",
    "- Since larger income correlates with large corporations it might be that in these situations stress conditions are higher. This cannot be exhaustively checked with the current data.    \n",
    "</i>\n"
   ]
  },
  {
   "cell_type": "code",
   "execution_count": 7,
   "metadata": {},
   "outputs": [],
   "source": [
    "# -*- coding: utf-8 -*-\n",
    "\n",
    "import matplotlib.pyplot as plt\n",
    "import pandas as pd\n",
    "import numpy as np\n",
    "import seaborn as sbn\n",
    "\n",
    "from sklearn.metrics import r2_score, mean_squared_error\n",
    "import statsmodels.api as sm\n",
    "from scipy import stats\n",
    "from importlib import reload\n",
    "from contextlib import contextmanager\n",
    "\n",
    "@contextmanager\n",
    "def SuppressPandasWarning():\n",
    "    with pd.option_context(\"mode.chained_assignment\", None):\n",
    "        yield\n",
    "\n",
    "# further my own standard methods placed in their own scripting files for use in other projects\n",
    "from eda import dersatz, dabfrage, dbeschreiben\n",
    "reload(dbeschreiben)\n",
    "reload(dabfrage)\n",
    "\n",
    "pass"
   ]
  },
  {
   "cell_type": "markdown",
   "metadata": {},
   "source": [
    "##### Methods specific to this notebook"
   ]
  },
  {
   "cell_type": "code",
   "execution_count": 8,
   "metadata": {},
   "outputs": [],
   "source": [
    "was_ist_das = lambda schema, xkey: schema[schema.Column == xkey].Question.values.tolist()\n",
    "\n",
    "\"\"\"\n",
    "replace embedded lists string elements when sep is given:\n",
    "    xs = \"blah;blup;bleep\"\n",
    "    sep = \";\"\n",
    "    repl_strlist(xs, 'blup', 'blap')\n",
    "    => 'blah;blap;bleep'\n",
    "\"\"\"\n",
    "stringlist = lambda xs, sep: list(map(lambda x: x.strip(), str(xs).split(sep)))\n",
    "repl_strlist = lambda xstr_sep, xval, xval_new, sep:\\\n",
    "                        sep.join(\n",
    "                            list(map(lambda x: x if x != xval else xval_new, stringlist(xstr_sep, sep)))\n",
    "                        )\n",
    "\n",
    "    \n",
    "def get_dataframe_filled(xdfInput, num_cols, id_col, target_col):\n",
    "    \"\"\" Performs replacement of missing values by using KNN generate clusters to find group averages\n",
    "    \"\"\"\n",
    "    dfres, _ = dersatz.ersatz_mit_knn(xdfInput, xcol=num_cols[0], ignoriere_spalten=[id_col, target_col],\n",
    "                                      thresholdNullWerteCluster=0.7, nclust=15)\n",
    "    for xc in filter(lambda x: x not in [id_col, target_col, num_cols[0]], xdfInput.describe().columns):\n",
    "        dfres, _ = dersatz.ersatz_mit_knn(dfres, xcol=xc, ignoriere_spalten=[id_col, target_col],\n",
    "                                          thresholdNullWerteCluster=0.7, nclust=15)\n",
    "    return dfres\n",
    "\n",
    "\n",
    "def setval(dfin, xcol, xval, xval_new):\n",
    "    \"\"\" For categorical features where mostly values one can replace those few strings to correponding value at \n",
    "    end of the interval: eg \"Less than 5 years\" => \"4\"\n",
    "    Later all values can be used as numbers\n",
    "    It only becomes a problem, when lots of data would be at the margins of the interval, which is not the case here\n",
    "    \"\"\"\n",
    "    for ik in range(dfin.shape[0]):\n",
    "        xw = str(dfin.at[ik, xcol])\n",
    "        if xw == xval:\n",
    "            dfin.at[ik, xcol] = xval_new\n",
    "    return dfin\n",
    "            \n",
    "def repl_df_dict(df, xcol, dict_repl, repl_strings=True, sep=\";\"):\n",
    "    \"\"\" Given a replacement dictionary for a categorical variable, replaces strings with given values\n",
    "    Usefull if the variable can be ordered in logical manner (good, neutral, bad)\n",
    "    df: data frame\n",
    "    dict_repl: replacement dictionary\n",
    "    repl_strings: whether the replacements values are numbers or strings\n",
    "    \"\"\"\n",
    "    dfvalues = df[xcol].values.tolist()        \n",
    "    for xkey in dict_repl.keys():\n",
    "        if repl_strings:\n",
    "            dfvalues = [repl_strlist(t, xkey, dict_repl[xkey], sep) for t in dfvalues]\n",
    "        else:\n",
    "            dfvalues = [t if xkey != t else dict_repl[xkey] for t in dfvalues]    \n",
    "    return dfvalues\n",
    "\n",
    "def filter_by_devtype(df):\n",
    "    # Select by DevType -> data scientists, data engineers, scientists\n",
    "    df = df[list(map(lambda x: 'data' in str(x).lower() or 'scientist' in str(x).lower(), df['DevType'].values.tolist()))]\n",
    "    df = df[list(filter(lambda x: x!='DevType', df.columns))]\n",
    "    print(\"Dimensionality:\", df.shape)    \n",
    "    return df\n"
   ]
  },
  {
   "cell_type": "markdown",
   "metadata": {},
   "source": [
    "# 2. Data loading, target and id variables"
   ]
  },
  {
   "cell_type": "markdown",
   "metadata": {},
   "source": [
    "#### Set <i>income (ConvertedComp) </i> as target variable and <i>Respondent</i> as ID"
   ]
  },
  {
   "cell_type": "code",
   "execution_count": 9,
   "metadata": {},
   "outputs": [
    {
     "name": "stdout",
     "output_type": "stream",
     "text": [
      "Dimensionality: (13098, 60)\n",
      "Dimensionality: (21290, 87)\n"
     ]
    },
    {
     "data": {
      "text/html": [
       "<div>\n",
       "<style scoped>\n",
       "    .dataframe tbody tr th:only-of-type {\n",
       "        vertical-align: middle;\n",
       "    }\n",
       "\n",
       "    .dataframe tbody tr th {\n",
       "        vertical-align: top;\n",
       "    }\n",
       "\n",
       "    .dataframe thead th {\n",
       "        text-align: right;\n",
       "    }\n",
       "</style>\n",
       "<table border=\"1\" class=\"dataframe\">\n",
       "  <thead>\n",
       "    <tr style=\"text-align: right;\">\n",
       "      <th></th>\n",
       "      <th>Respondent</th>\n",
       "      <th>ConvertedComp</th>\n",
       "      <th>JobSat</th>\n",
       "      <th>MainBranch</th>\n",
       "      <th>Hobbyist</th>\n",
       "      <th>Age</th>\n",
       "      <th>Age1stCode</th>\n",
       "      <th>Country</th>\n",
       "      <th>EdLevel</th>\n",
       "      <th>Employment</th>\n",
       "      <th>...</th>\n",
       "      <th>LanguageWorkedWith</th>\n",
       "      <th>NEWJobHunt</th>\n",
       "      <th>NEWLearn</th>\n",
       "      <th>OpSys</th>\n",
       "      <th>OrgSize</th>\n",
       "      <th>PurchaseWhat</th>\n",
       "      <th>UndergradMajor</th>\n",
       "      <th>WorkWeekHrs</th>\n",
       "      <th>YearsCode</th>\n",
       "      <th>YearsCodePro</th>\n",
       "    </tr>\n",
       "  </thead>\n",
       "  <tbody>\n",
       "    <tr>\n",
       "      <th>9</th>\n",
       "      <td>10</td>\n",
       "      <td>32315.0</td>\n",
       "      <td>Very satisfied</td>\n",
       "      <td>I am a developer by profession</td>\n",
       "      <td>Yes</td>\n",
       "      <td>22.0</td>\n",
       "      <td>14</td>\n",
       "      <td>United Kingdom</td>\n",
       "      <td>Master’s degree (M.A., M.S., M.Eng., MBA, etc.)</td>\n",
       "      <td>Employed full-time</td>\n",
       "      <td>...</td>\n",
       "      <td>HTML/CSS;Java;JavaScript;Python;SQL</td>\n",
       "      <td>Curious about other opportunities;Better compe...</td>\n",
       "      <td>Every few months</td>\n",
       "      <td>Windows</td>\n",
       "      <td>2 to 9 employees</td>\n",
       "      <td>I have a great deal of influence</td>\n",
       "      <td>Mathematics or statistics</td>\n",
       "      <td>36.0</td>\n",
       "      <td>8</td>\n",
       "      <td>4</td>\n",
       "    </tr>\n",
       "    <tr>\n",
       "      <th>15</th>\n",
       "      <td>16</td>\n",
       "      <td>108576.0</td>\n",
       "      <td>Very satisfied</td>\n",
       "      <td>I am a developer by profession</td>\n",
       "      <td>Yes</td>\n",
       "      <td>45.0</td>\n",
       "      <td>8</td>\n",
       "      <td>United Kingdom</td>\n",
       "      <td>Bachelor’s degree (B.A., B.S., B.Eng., etc.)</td>\n",
       "      <td>Independent contractor, freelancer, or self-em...</td>\n",
       "      <td>...</td>\n",
       "      <td>Bash/Shell/PowerShell;HTML/CSS;Java;JavaScript...</td>\n",
       "      <td>Having a bad day (or week or month) at work;Cu...</td>\n",
       "      <td>Once a year</td>\n",
       "      <td>MacOS</td>\n",
       "      <td>Just me - I am a freelancer, sole proprietor, ...</td>\n",
       "      <td>NaN</td>\n",
       "      <td>Computer science, computer engineering, or sof...</td>\n",
       "      <td>50.0</td>\n",
       "      <td>37</td>\n",
       "      <td>23</td>\n",
       "    </tr>\n",
       "    <tr>\n",
       "      <th>21</th>\n",
       "      <td>22</td>\n",
       "      <td>NaN</td>\n",
       "      <td>Slightly dissatisfied</td>\n",
       "      <td>I am a developer by profession</td>\n",
       "      <td>Yes</td>\n",
       "      <td>NaN</td>\n",
       "      <td>18</td>\n",
       "      <td>India</td>\n",
       "      <td>Bachelor’s degree (B.A., B.S., B.Eng., etc.)</td>\n",
       "      <td>Employed full-time</td>\n",
       "      <td>...</td>\n",
       "      <td>Java;Python</td>\n",
       "      <td>Better compensation;Better work/life balance;W...</td>\n",
       "      <td>Every few months</td>\n",
       "      <td>Windows</td>\n",
       "      <td>500 to 999 employees</td>\n",
       "      <td>NaN</td>\n",
       "      <td>Computer science, computer engineering, or sof...</td>\n",
       "      <td>50.0</td>\n",
       "      <td>10</td>\n",
       "      <td>2</td>\n",
       "    </tr>\n",
       "    <tr>\n",
       "      <th>24</th>\n",
       "      <td>25</td>\n",
       "      <td>NaN</td>\n",
       "      <td>Neither satisfied nor dissatisfied</td>\n",
       "      <td>I am a developer by profession</td>\n",
       "      <td>No</td>\n",
       "      <td>NaN</td>\n",
       "      <td>25</td>\n",
       "      <td>Portugal</td>\n",
       "      <td>Associate degree (A.A., A.S., etc.)</td>\n",
       "      <td>Employed full-time</td>\n",
       "      <td>...</td>\n",
       "      <td>Bash/Shell/PowerShell;C</td>\n",
       "      <td>Curious about other opportunities;Growth or le...</td>\n",
       "      <td>Once every few years</td>\n",
       "      <td>Windows</td>\n",
       "      <td>100 to 499 employees</td>\n",
       "      <td>I have little or no influence</td>\n",
       "      <td>Computer science, computer engineering, or sof...</td>\n",
       "      <td>40.0</td>\n",
       "      <td>23</td>\n",
       "      <td>18</td>\n",
       "    </tr>\n",
       "    <tr>\n",
       "      <th>26</th>\n",
       "      <td>27</td>\n",
       "      <td>NaN</td>\n",
       "      <td>NaN</td>\n",
       "      <td>I used to be a developer by profession, but no...</td>\n",
       "      <td>Yes</td>\n",
       "      <td>NaN</td>\n",
       "      <td>12</td>\n",
       "      <td>United States</td>\n",
       "      <td>Bachelor’s degree (B.A., B.S., B.Eng., etc.)</td>\n",
       "      <td>Employed full-time</td>\n",
       "      <td>...</td>\n",
       "      <td>Bash/Shell/PowerShell;C;C++;Java;Python;SQL</td>\n",
       "      <td>NaN</td>\n",
       "      <td>Once every few years</td>\n",
       "      <td>Linux-based</td>\n",
       "      <td>NaN</td>\n",
       "      <td>NaN</td>\n",
       "      <td>A humanities discipline (such as literature, h...</td>\n",
       "      <td>NaN</td>\n",
       "      <td>20</td>\n",
       "      <td>20</td>\n",
       "    </tr>\n",
       "  </tbody>\n",
       "</table>\n",
       "<p>5 rows × 22 columns</p>\n",
       "</div>"
      ],
      "text/plain": [
       "    Respondent  ConvertedComp                              JobSat  \\\n",
       "9           10        32315.0                      Very satisfied   \n",
       "15          16       108576.0                      Very satisfied   \n",
       "21          22            NaN               Slightly dissatisfied   \n",
       "24          25            NaN  Neither satisfied nor dissatisfied   \n",
       "26          27            NaN                                 NaN   \n",
       "\n",
       "                                           MainBranch Hobbyist   Age  \\\n",
       "9                      I am a developer by profession      Yes  22.0   \n",
       "15                     I am a developer by profession      Yes  45.0   \n",
       "21                     I am a developer by profession      Yes   NaN   \n",
       "24                     I am a developer by profession       No   NaN   \n",
       "26  I used to be a developer by profession, but no...      Yes   NaN   \n",
       "\n",
       "   Age1stCode         Country  \\\n",
       "9          14  United Kingdom   \n",
       "15          8  United Kingdom   \n",
       "21         18           India   \n",
       "24         25        Portugal   \n",
       "26         12   United States   \n",
       "\n",
       "                                            EdLevel  \\\n",
       "9   Master’s degree (M.A., M.S., M.Eng., MBA, etc.)   \n",
       "15     Bachelor’s degree (B.A., B.S., B.Eng., etc.)   \n",
       "21     Bachelor’s degree (B.A., B.S., B.Eng., etc.)   \n",
       "24              Associate degree (A.A., A.S., etc.)   \n",
       "26     Bachelor’s degree (B.A., B.S., B.Eng., etc.)   \n",
       "\n",
       "                                           Employment  ...  \\\n",
       "9                                  Employed full-time  ...   \n",
       "15  Independent contractor, freelancer, or self-em...  ...   \n",
       "21                                 Employed full-time  ...   \n",
       "24                                 Employed full-time  ...   \n",
       "26                                 Employed full-time  ...   \n",
       "\n",
       "                                   LanguageWorkedWith  \\\n",
       "9                 HTML/CSS;Java;JavaScript;Python;SQL   \n",
       "15  Bash/Shell/PowerShell;HTML/CSS;Java;JavaScript...   \n",
       "21                                        Java;Python   \n",
       "24                            Bash/Shell/PowerShell;C   \n",
       "26        Bash/Shell/PowerShell;C;C++;Java;Python;SQL   \n",
       "\n",
       "                                           NEWJobHunt              NEWLearn  \\\n",
       "9   Curious about other opportunities;Better compe...      Every few months   \n",
       "15  Having a bad day (or week or month) at work;Cu...           Once a year   \n",
       "21  Better compensation;Better work/life balance;W...      Every few months   \n",
       "24  Curious about other opportunities;Growth or le...  Once every few years   \n",
       "26                                                NaN  Once every few years   \n",
       "\n",
       "          OpSys                                            OrgSize  \\\n",
       "9       Windows                                   2 to 9 employees   \n",
       "15        MacOS  Just me - I am a freelancer, sole proprietor, ...   \n",
       "21      Windows                               500 to 999 employees   \n",
       "24      Windows                               100 to 499 employees   \n",
       "26  Linux-based                                                NaN   \n",
       "\n",
       "                        PurchaseWhat  \\\n",
       "9   I have a great deal of influence   \n",
       "15                               NaN   \n",
       "21                               NaN   \n",
       "24     I have little or no influence   \n",
       "26                               NaN   \n",
       "\n",
       "                                       UndergradMajor WorkWeekHrs YearsCode  \\\n",
       "9                           Mathematics or statistics        36.0         8   \n",
       "15  Computer science, computer engineering, or sof...        50.0        37   \n",
       "21  Computer science, computer engineering, or sof...        50.0        10   \n",
       "24  Computer science, computer engineering, or sof...        40.0        23   \n",
       "26  A humanities discipline (such as literature, h...         NaN        20   \n",
       "\n",
       "    YearsCodePro  \n",
       "9              4  \n",
       "15            23  \n",
       "21             2  \n",
       "24            18  \n",
       "26            20  \n",
       "\n",
       "[5 rows x 22 columns]"
      ]
     },
     "execution_count": 9,
     "metadata": {},
     "output_type": "execute_result"
    }
   ],
   "source": [
    "# Filter columns of interest\n",
    "startup_cols = [\"Respondent\", \"ConvertedComp\", \"JobSat\",\n",
    "               \"MainBranch\", \"Hobbyist\", \"Age\", \"Age1stCode\", \"Country\",\n",
    "               \"EdLevel\", \"Employment\", \"JobSeek\", \"JobFactors\",\n",
    "               \"LanguageWorkedWith\",\n",
    "               \"NEWJobHunt\", \"NEWLearn\",\n",
    "               \"OpSys\", \"OrgSize\", \n",
    "               \"PurchaseWhat\", \n",
    "               \"UndergradMajor\",\n",
    "               \"WorkWeekHrs\", \"YearsCode\", \"YearsCodePro\"\n",
    "               ]\n",
    "\n",
    "# Load Data (2020)\n",
    "df2020 = pd.read_csv('{}/2020/survey_results_public.csv'.format(data_dir))\n",
    "schema2020 = pd.read_csv('{}/2020/survey_results_schema.csv'.format(data_dir))\n",
    "\n",
    "# Load data (2019) and match columns\n",
    "df2019 = pd.read_csv('{}/2019/survey_results_public.csv'.format(data_dir))\n",
    "schema2019 = pd.read_csv('{}/2019/survey_results_schema.csv'.format(data_dir))\n",
    "for xc in [\"NEWJobHunt\", \"NEWLearn\", \"NEWOnboardGood\"]:\n",
    "    df2019[xc] = [None] * df2019.shape[0]\n",
    "\n",
    "# because of the filter on DevType (looking for Data Scientist Jobs), the dimensionality gets strongly reduced\n",
    "df2020 = filter_by_devtype(df2020)\n",
    "df2019 = filter_by_devtype(df2019)\n",
    "df = pd.concat([df2020[startup_cols], df2019[startup_cols]])\n",
    "df.head()\n"
   ]
  },
  {
   "cell_type": "code",
   "execution_count": 10,
   "metadata": {},
   "outputs": [
    {
     "data": {
      "text/plain": [
       "Respondent                                                        10424\n",
       "ConvertedComp                                                      4272\n",
       "JobSat                                               Slightly satisfied\n",
       "MainBranch                               I am a developer by profession\n",
       "Hobbyist                                                            Yes\n",
       "Age                                                                  25\n",
       "Age1stCode                                                           18\n",
       "Country                                                            Iran\n",
       "EdLevel                     Master’s degree (MA, MS, M.Eng., MBA, etc.)\n",
       "Employment                                           Employed full-time\n",
       "JobSeek               I’m not actively looking, but I am open to new...\n",
       "JobFactors            Financial performance or funding status of the...\n",
       "LanguageWorkedWith                           HTML/CSS;JavaScript;Python\n",
       "NEWJobHunt                                                         None\n",
       "NEWLearn                                                           None\n",
       "OpSys                                                       Linux-based\n",
       "OrgSize                                              20 to 99 employees\n",
       "PurchaseWhat                              I have little or no influence\n",
       "UndergradMajor        Computer science, computer engineering, or sof...\n",
       "WorkWeekHrs                                                          50\n",
       "YearsCode                                                             2\n",
       "YearsCodePro                                                          2\n",
       "Name: 10377, dtype: object"
      ]
     },
     "execution_count": 10,
     "metadata": {},
     "output_type": "execute_result"
    }
   ],
   "source": [
    "df.sample(10).iloc[5]"
   ]
  },
  {
   "cell_type": "code",
   "execution_count": 11,
   "metadata": {},
   "outputs": [
    {
     "data": {
      "text/plain": [
       "(34388, 22)"
      ]
     },
     "execution_count": 11,
     "metadata": {},
     "output_type": "execute_result"
    }
   ],
   "source": [
    "df.shape"
   ]
  },
  {
   "cell_type": "code",
   "execution_count": 12,
   "metadata": {},
   "outputs": [
    {
     "data": {
      "text/html": [
       "<div>\n",
       "<style scoped>\n",
       "    .dataframe tbody tr th:only-of-type {\n",
       "        vertical-align: middle;\n",
       "    }\n",
       "\n",
       "    .dataframe tbody tr th {\n",
       "        vertical-align: top;\n",
       "    }\n",
       "\n",
       "    .dataframe thead th {\n",
       "        text-align: right;\n",
       "    }\n",
       "</style>\n",
       "<table border=\"1\" class=\"dataframe\">\n",
       "  <thead>\n",
       "    <tr style=\"text-align: right;\">\n",
       "      <th></th>\n",
       "      <th>id</th>\n",
       "    </tr>\n",
       "    <tr>\n",
       "      <th>JobSat</th>\n",
       "      <th></th>\n",
       "    </tr>\n",
       "  </thead>\n",
       "  <tbody>\n",
       "    <tr>\n",
       "      <th>Very satisfied</th>\n",
       "      <td>0.290741</td>\n",
       "    </tr>\n",
       "    <tr>\n",
       "      <th>Slightly satisfied</th>\n",
       "      <td>0.282453</td>\n",
       "    </tr>\n",
       "    <tr>\n",
       "      <th>Slightly dissatisfied</th>\n",
       "      <td>0.130162</td>\n",
       "    </tr>\n",
       "    <tr>\n",
       "      <th>nan</th>\n",
       "      <td>0.128650</td>\n",
       "    </tr>\n",
       "    <tr>\n",
       "      <th>Neither satisfied nor dissatisfied</th>\n",
       "      <td>0.105386</td>\n",
       "    </tr>\n",
       "    <tr>\n",
       "      <th>Very dissatisfied</th>\n",
       "      <td>0.062609</td>\n",
       "    </tr>\n",
       "  </tbody>\n",
       "</table>\n",
       "</div>"
      ],
      "text/plain": [
       "                                          id\n",
       "JobSat                                      \n",
       "Very satisfied                      0.290741\n",
       "Slightly satisfied                  0.282453\n",
       "Slightly dissatisfied               0.130162\n",
       "nan                                 0.128650\n",
       "Neither satisfied nor dissatisfied  0.105386\n",
       "Very dissatisfied                   0.062609"
      ]
     },
     "execution_count": 12,
     "metadata": {},
     "output_type": "execute_result"
    }
   ],
   "source": [
    "dbeschreiben.frequenz_werte(df, xcol=\"JobSat\", prozente=True, sep=\";\")"
   ]
  },
  {
   "cell_type": "code",
   "execution_count": 13,
   "metadata": {},
   "outputs": [],
   "source": [
    "# Variables: simply changing here the target variable will lead to the specific model\n",
    "id_col     = \"Respondent\"\n",
    "target_col = \"ConvertedComp\" # \"JobSat\" # \"ConvertedComp\"\n",
    "\n",
    "# two targets of interest: JobSat and ConvertedComp\n",
    "dict_satisfaction = {\n",
    "    \"Very satisfied\": 5,\n",
    "    \"Slightly satisfied\": 4,\n",
    "    \"Neither satisfied nor dissatisfied\": 3,\n",
    "    \"Slightly dissatisfied\": 2,\n",
    "    \"Very dissatisfied\": 1\n",
    "}\n",
    "dfvalues = repl_df_dict(df, \"JobSat\", dict_satisfaction, repl_strings=False)\n",
    "df['JobSat'] = dfvalues\n"
   ]
  },
  {
   "cell_type": "code",
   "execution_count": 14,
   "metadata": {},
   "outputs": [
    {
     "data": {
      "text/html": [
       "<div>\n",
       "<style scoped>\n",
       "    .dataframe tbody tr th:only-of-type {\n",
       "        vertical-align: middle;\n",
       "    }\n",
       "\n",
       "    .dataframe tbody tr th {\n",
       "        vertical-align: top;\n",
       "    }\n",
       "\n",
       "    .dataframe thead th {\n",
       "        text-align: right;\n",
       "    }\n",
       "</style>\n",
       "<table border=\"1\" class=\"dataframe\">\n",
       "  <thead>\n",
       "    <tr style=\"text-align: right;\">\n",
       "      <th></th>\n",
       "      <th>ConvertedComp</th>\n",
       "      <th>WorkWeekHrs</th>\n",
       "    </tr>\n",
       "  </thead>\n",
       "  <tbody>\n",
       "    <tr>\n",
       "      <th>71300</th>\n",
       "      <td>71000.0</td>\n",
       "      <td>40.0</td>\n",
       "    </tr>\n",
       "    <tr>\n",
       "      <th>47617</th>\n",
       "      <td>92000.0</td>\n",
       "      <td>50.0</td>\n",
       "    </tr>\n",
       "    <tr>\n",
       "      <th>27395</th>\n",
       "      <td>NaN</td>\n",
       "      <td>NaN</td>\n",
       "    </tr>\n",
       "    <tr>\n",
       "      <th>13818</th>\n",
       "      <td>14300.0</td>\n",
       "      <td>50.0</td>\n",
       "    </tr>\n",
       "    <tr>\n",
       "      <th>71708</th>\n",
       "      <td>135000.0</td>\n",
       "      <td>45.0</td>\n",
       "    </tr>\n",
       "  </tbody>\n",
       "</table>\n",
       "</div>"
      ],
      "text/plain": [
       "       ConvertedComp  WorkWeekHrs\n",
       "71300        71000.0         40.0\n",
       "47617        92000.0         50.0\n",
       "27395            NaN          NaN\n",
       "13818        14300.0         50.0\n",
       "71708       135000.0         45.0"
      ]
     },
     "execution_count": 14,
     "metadata": {},
     "output_type": "execute_result"
    }
   ],
   "source": [
    "df[[\"ConvertedComp\", \"WorkWeekHrs\"]].sample(5)"
   ]
  },
  {
   "cell_type": "markdown",
   "metadata": {},
   "source": [
    "# 3. Two possible target variables: Job Satisfaction and Income"
   ]
  },
  {
   "cell_type": "code",
   "execution_count": 15,
   "metadata": {},
   "outputs": [
    {
     "name": "stdout",
     "output_type": "stream",
     "text": [
      "Quantiles for ConvertedComp: [25296.0, 56264.0, 135000.0]\n"
     ]
    },
    {
     "data": {
      "text/html": [
       "<div>\n",
       "<style scoped>\n",
       "    .dataframe tbody tr th:only-of-type {\n",
       "        vertical-align: middle;\n",
       "    }\n",
       "\n",
       "    .dataframe tbody tr th {\n",
       "        vertical-align: top;\n",
       "    }\n",
       "\n",
       "    .dataframe thead th {\n",
       "        text-align: right;\n",
       "    }\n",
       "</style>\n",
       "<table border=\"1\" class=\"dataframe\">\n",
       "  <thead>\n",
       "    <tr style=\"text-align: right;\">\n",
       "      <th></th>\n",
       "      <th>ConvertedComp</th>\n",
       "      <th>ConvertedCompPos</th>\n",
       "      <th>JobSat</th>\n",
       "    </tr>\n",
       "  </thead>\n",
       "  <tbody>\n",
       "    <tr>\n",
       "      <th>78312</th>\n",
       "      <td>78332.0</td>\n",
       "      <td>3.0</td>\n",
       "      <td>4.0</td>\n",
       "    </tr>\n",
       "    <tr>\n",
       "      <th>5774</th>\n",
       "      <td>NaN</td>\n",
       "      <td>NaN</td>\n",
       "      <td>NaN</td>\n",
       "    </tr>\n",
       "    <tr>\n",
       "      <th>70058</th>\n",
       "      <td>18000.0</td>\n",
       "      <td>1.0</td>\n",
       "      <td>4.0</td>\n",
       "    </tr>\n",
       "    <tr>\n",
       "      <th>4675</th>\n",
       "      <td>128324.0</td>\n",
       "      <td>3.0</td>\n",
       "      <td>4.0</td>\n",
       "    </tr>\n",
       "    <tr>\n",
       "      <th>28075</th>\n",
       "      <td>8760.0</td>\n",
       "      <td>1.0</td>\n",
       "      <td>4.0</td>\n",
       "    </tr>\n",
       "  </tbody>\n",
       "</table>\n",
       "</div>"
      ],
      "text/plain": [
       "       ConvertedComp  ConvertedCompPos  JobSat\n",
       "78312        78332.0               3.0     4.0\n",
       "5774             NaN               NaN     NaN\n",
       "70058        18000.0               1.0     4.0\n",
       "4675        128324.0               3.0     4.0\n",
       "28075         8760.0               1.0     4.0"
      ]
     },
     "execution_count": 15,
     "metadata": {},
     "output_type": "execute_result"
    }
   ],
   "source": [
    "# define successfull DS as someone who has a high paycheck and is satisfied with the job\n",
    "q1 = df['ConvertedComp'].quantile(0.25)\n",
    "q2 = df['ConvertedComp'].quantile(0.5)\n",
    "q3 = df['ConvertedComp'].quantile(0.85)\n",
    "\n",
    "xquantiles_income = [q1, q2, q3]\n",
    "print(\"Quantiles for ConvertedComp:\", xquantiles_income)\n",
    "xfgetplace = lambda x: np.sum(list(map(lambda q: x > q, xquantiles_income))) + 1\n",
    "\n",
    "df['ConvertedCompPos'] = [xfgetplace(t) if not np.isnan(t) else np.nan for t in df['ConvertedComp'].values]\n",
    "\n",
    "df[[\"ConvertedComp\", \"ConvertedCompPos\", \"JobSat\"]].sample(5)"
   ]
  },
  {
   "cell_type": "code",
   "execution_count": 16,
   "metadata": {
    "scrolled": false
   },
   "outputs": [
    {
     "data": {
      "image/png": "[encoded data removed]",
      "text/plain": [
       "<Figure size 504x432 with 1 Axes>"
      ]
     },
     "metadata": {
      "needs_background": "light"
     },
     "output_type": "display_data"
    }
   ],
   "source": [
    "fig, ax = plt.subplots(figsize=(7, 6))\n",
    "df.plot.scatter(x='JobSat', y='ConvertedCompPos', \n",
    "                s=1, alpha=.5, color='green', ax=ax)\n",
    "dots = ax.collections[-1]\n",
    "offsets = dots.get_offsets()\n",
    "jittered_offsets = offsets + np.random.uniform(-0.1, 0.1, offsets.shape)\n",
    "dots.set_offsets(jittered_offsets)\n",
    "ax.set_title('Job satisfaction vs Income position in the distribution')\n",
    "ax.set_ylabel('Income position in the distribution')\n",
    "ax.set_xlabel('Job Satisfaction')\n",
    "plt.tight_layout()\n",
    "plt.show()"
   ]
  },
  {
   "cell_type": "code",
   "execution_count": 17,
   "metadata": {},
   "outputs": [
    {
     "data": {
      "text/html": [
       "<div>\n",
       "<style scoped>\n",
       "    .dataframe tbody tr th:only-of-type {\n",
       "        vertical-align: middle;\n",
       "    }\n",
       "\n",
       "    .dataframe tbody tr th {\n",
       "        vertical-align: top;\n",
       "    }\n",
       "\n",
       "    .dataframe thead th {\n",
       "        text-align: right;\n",
       "    }\n",
       "</style>\n",
       "<table border=\"1\" class=\"dataframe\">\n",
       "  <thead>\n",
       "    <tr style=\"text-align: right;\">\n",
       "      <th></th>\n",
       "      <th>id</th>\n",
       "    </tr>\n",
       "    <tr>\n",
       "      <th>SuccessfullAsDS</th>\n",
       "      <th></th>\n",
       "    </tr>\n",
       "  </thead>\n",
       "  <tbody>\n",
       "    <tr>\n",
       "      <th>0.0</th>\n",
       "      <td>0.757357</td>\n",
       "    </tr>\n",
       "    <tr>\n",
       "      <th>1.0</th>\n",
       "      <td>0.242643</td>\n",
       "    </tr>\n",
       "  </tbody>\n",
       "</table>\n",
       "</div>"
      ],
      "text/plain": [
       "                       id\n",
       "SuccessfullAsDS          \n",
       "0.0              0.757357\n",
       "1.0              0.242643"
      ]
     },
     "execution_count": 17,
     "metadata": {},
     "output_type": "execute_result"
    },
    {
     "data": {
      "image/png": "[encoded data removed]",
      "text/plain": [
       "<Figure size 432x288 with 1 Axes>"
      ]
     },
     "metadata": {
      "needs_background": "light"
     },
     "output_type": "display_data"
    }
   ],
   "source": [
    "# call successfull data scientists, those that have high paychecks as well as job satisfaction\n",
    "df['SuccessfullAsDS'] = [1.0 if (jobsat >= 4 and incomePos >= 3) else 0.0 for jobsat, incomePos in \n",
    "                                    df[[\"JobSat\", \"ConvertedCompPos\"]].values]\n",
    "\n",
    "_ = df['SuccessfullAsDS'].hist(grid=False)\n",
    "dbeschreiben.frequenz_werte(df, xcol=\"SuccessfullAsDS\", prozente=True, sep=\";\")\n"
   ]
  },
  {
   "cell_type": "markdown",
   "metadata": {},
   "source": [
    "It doesn't seem for job satisfaction to strictly go with the income. If we would call those users that earn above average while being satisfied (4 or 5) then only 25% of them can be classified as such."
   ]
  },
  {
   "cell_type": "code",
   "execution_count": 18,
   "metadata": {},
   "outputs": [],
   "source": [
    "# drop ConvertedCompPos, SuccessfullAsDS, JobSat\n",
    "df = df[list(filter(lambda x: x != \"ConvertedCompPos\", df.columns))]\n",
    "df = df[list(filter(lambda x: x != \"SuccessfullAsDS\", df.columns))]"
   ]
  },
  {
   "cell_type": "markdown",
   "metadata": {},
   "source": [
    "# 4. Replacements and filtering"
   ]
  },
  {
   "cell_type": "markdown",
   "metadata": {},
   "source": [
    "### Filter and replace data upfront based on EA-Results"
   ]
  },
  {
   "cell_type": "code",
   "execution_count": 19,
   "metadata": {},
   "outputs": [
    {
     "data": {
      "text/html": [
       "<div>\n",
       "<style scoped>\n",
       "    .dataframe tbody tr th:only-of-type {\n",
       "        vertical-align: middle;\n",
       "    }\n",
       "\n",
       "    .dataframe tbody tr th {\n",
       "        vertical-align: top;\n",
       "    }\n",
       "\n",
       "    .dataframe thead th {\n",
       "        text-align: right;\n",
       "    }\n",
       "</style>\n",
       "<table border=\"1\" class=\"dataframe\">\n",
       "  <thead>\n",
       "    <tr style=\"text-align: right;\">\n",
       "      <th></th>\n",
       "      <th>Country</th>\n",
       "      <th>count</th>\n",
       "    </tr>\n",
       "  </thead>\n",
       "  <tbody>\n",
       "    <tr>\n",
       "      <th>0</th>\n",
       "      <td>United States</td>\n",
       "      <td>8394</td>\n",
       "    </tr>\n",
       "    <tr>\n",
       "      <th>1</th>\n",
       "      <td>India</td>\n",
       "      <td>2989</td>\n",
       "    </tr>\n",
       "    <tr>\n",
       "      <th>2</th>\n",
       "      <td>Germany</td>\n",
       "      <td>2361</td>\n",
       "    </tr>\n",
       "    <tr>\n",
       "      <th>3</th>\n",
       "      <td>United Kingdom</td>\n",
       "      <td>2032</td>\n",
       "    </tr>\n",
       "    <tr>\n",
       "      <th>4</th>\n",
       "      <td>Canada</td>\n",
       "      <td>1216</td>\n",
       "    </tr>\n",
       "  </tbody>\n",
       "</table>\n",
       "</div>"
      ],
      "text/plain": [
       "          Country  count\n",
       "0   United States   8394\n",
       "1           India   2989\n",
       "2         Germany   2361\n",
       "3  United Kingdom   2032\n",
       "4          Canada   1216"
      ]
     },
     "execution_count": 19,
     "metadata": {},
     "output_type": "execute_result"
    }
   ],
   "source": [
    "# this was an ongoing process getting back and forth.\n",
    "xr = dbeschreiben.frequenz_werte(df, xcol=\"Country\", prozente=False, sep=\";\")\n",
    "xr['Country'] = xr.index\n",
    "xr = xr[['Country', 'id']]; xr.columns = ['Country', 'count']\n",
    "xr = xr.reset_index(drop=True)\n",
    "xr[xr['count'] > 100].head(5)"
   ]
  },
  {
   "cell_type": "markdown",
   "metadata": {},
   "source": [
    "Choosing just those countries that culturally best fit together in terms of revenues, style, etc. so as to make the analysis easier to interpret.\n",
    "\n",
    "There's a problem with US. The income is so high compared to other countries, that a model for all doesn't perform well (about 3 to 5 percent loss in variance explained R^2)."
   ]
  },
  {
   "cell_type": "code",
   "execution_count": 20,
   "metadata": {},
   "outputs": [
    {
     "name": "stdout",
     "output_type": "stream",
     "text": [
      "(5536, 22)\n"
     ]
    }
   ],
   "source": [
    "# Countries \"United States\", \"Switzerland\", \"Denmark\", \"Norway\"\n",
    "selected_countries = [\"United Kingdom\", \"Ireland\", \"Canada\",\n",
    "                      \"Germany\", \"Austria\", \"Netherlands\", \"Sweeden\", \"Finland\",\n",
    "                      \"France\", \"Belgium\"]\n",
    "df = df[list(map(lambda x: x in selected_countries, df['Country'].values))]\n",
    "\n",
    "# Not using records that are missing target column value\n",
    "df = df[list(map(lambda x: not np.isnan(x) and x is not None and not np.isinf(x), \n",
    "                 df[target_col].values))]\n",
    "\n",
    "# keep only records of users aged min 20 years\n",
    "df = df[list(map(lambda x: x >= 20, df[\"Age\"].values))]\n",
    "\n",
    "df = df.reset_index(drop=True)\n",
    "print(df.shape)"
   ]
  },
  {
   "cell_type": "code",
   "execution_count": 21,
   "metadata": {},
   "outputs": [],
   "source": [
    "# Replacements\n",
    "\n",
    "# Age1stCode\n",
    "df = setval(df, xcol=\"Age1stCode\", xval=\"Younger than 5 years\", xval_new=\"4\")\n",
    "df = setval(df, xcol=\"Age1stCode\", xval=\"Older than 85\", xval_new=\"86\")\n",
    "df[\"Age1stCode\"] = df[\"Age1stCode\"].astype(np.float)\n",
    "\n",
    "# YearsCode, YearsCodePro\n",
    "for xcol in [\"YearsCode\", \"YearsCodePro\"]:\n",
    "    df = setval(df, xcol=xcol, xval=\"Less than 1 year\", xval_new=\"0\")\n",
    "    df = setval(df, xcol=xcol, xval=\"More than 50 years\", xval_new=\"51\")\n",
    "    df[xcol] = df[xcol].astype(np.float)\n"
   ]
  },
  {
   "cell_type": "code",
   "execution_count": 22,
   "metadata": {},
   "outputs": [],
   "source": [
    "# Replacements with dictionaries\n",
    "\n",
    "_dict = {\n",
    "    'I am a developer by profession': 'DEV', \n",
    "    'I am not primarily a developer, but I write code sometimes as part of my work': 'DS', \n",
    "    'I used to be a developer by profession, but no longer am':'OTHER', \n",
    "    'I am a student who is learning to code':'OTHER', \n",
    "    'I code primarily as a hobby':'OTHER'\n",
    "}\n",
    "dfvalues = repl_df_dict(df, \"MainBranch\", _dict)\n",
    "df['MainBranch'] = dfvalues\n",
    "\n",
    "\n",
    "_dict = {\n",
    "    'Bachelor’s degree (B.A., B.S., B.Eng., etc.)': 'Bachelor', \n",
    "    'Bachelor’s degree (BA, BS, B.Eng., etc.)': 'Bachelor',\n",
    "    'Master’s degree (M.A., M.S., M.Eng., MBA, etc.)': 'Master',    \n",
    "    'Master’s degree (MA, MS, M.Eng., MBA, etc.)': 'Master',    \n",
    "    'Other doctoral degree (Ph.D., Ed.D., etc.)': 'Doctoral',\n",
    "    'Other doctoral degree (Ph.D, Ed.D., etc.)': 'Doctoral',\n",
    "}\n",
    "for xkey in ['Some college/university study without earning a degree', \n",
    "             'Associate degree', 'Associate degree (A.A., A.S., etc.)'\n",
    "             'Secondary school (e.g. American high school, German Realschule or Gymnasium, etc.)',\n",
    "             'nan', 'Professional degree (JD, MD, etc.)', 'I never completed any formal education', \n",
    "             'Primary/elementary school',\n",
    "             'Secondary school (e.g. American high school, German Realschule or Gymnasium, etc.)', \n",
    "             'Associate degree (A.A., A.S., etc.)']:\n",
    "    _dict[xkey] = 'other'\n",
    "dfvalues = repl_df_dict(df, \"EdLevel\", _dict)\n",
    "df['EdLevel'] = dfvalues\n",
    "\n",
    "_dict = {\n",
    "    'Employed full-time': 'fulltime', \n",
    "    'Independent contractor, freelancer, or self-employed': 'one man show', \n",
    "    'Employed part-time': 'parttime', \n",
    "    'Not employed, but looking for work': 'other'\n",
    "}\n",
    "dfvalues = repl_df_dict(df, \"Employment\", _dict)\n",
    "df['Employment'] = dfvalues\n",
    "\n",
    "\n",
    "_dict = {\n",
    "    'I’m not actively looking, but I am open to new opportunities':'somewhat', \n",
    "    'I am not interested in new job opportunities':'no', \n",
    "    'I am actively looking for a job':'yes', \n",
    "    'nan':'ItsASecret'\n",
    "}\n",
    "dfvalues = repl_df_dict(df, \"JobSeek\", _dict)\n",
    "df['JobSeek'] = dfvalues\n",
    "\n",
    "\n",
    "_dict = {\n",
    "    'Flex time or a flexible schedule': 'flexibility', \n",
    "    'Opportunities for professional development': 'career', \n",
    "    \"Languages, frameworks, and other technologies I'd be working with\": 'tech savvy', \n",
    "    'Languages, frameworks, and other technologies I’d be working with': 'tech savvy',     \n",
    "    'Remote work options': 'remote work', \n",
    "    \"Industry that I'd be working in\": 'domain', \n",
    "    'Industry that I’d be working in': 'domain',     \n",
    "    \"Specific department or team I'd be working on\": 'work environment', \n",
    "    'Diversity of the company or organization': 'work environment', \n",
    "    'Specific department or team I’d be working on': 'work environment',     \n",
    "    'Office environment or company culture': 'work environment',     \n",
    "    'Financial performance or funding status of the company or organization': 'financial stability', \n",
    "    'Family friendliness': 'free launch', \n",
    "    'How widely used or impactful my work output would be': 'idealist',     \n",
    "    'nan': 'ItsASecret'    \n",
    "}\n",
    "dfvalues = repl_df_dict(df, \"JobFactors\", _dict, repl_strings=True)\n",
    "df['JobFactors'] = dfvalues\n",
    "\n",
    "\n",
    "_dict = {\n",
    "    'Better compensation': 'cash', \n",
    "    'Curious about other opportunities': 'cash', \n",
    "    'Growth or leadership opportunities': 'chef', \n",
    "    'Wanting to work with new technologies': 'nomad', \n",
    "    'Better work/life balance': 'stressedout', \n",
    "    'Trouble with leadership at my company': 'stressedout', \n",
    "    'Looking to relocate': 'situational', \n",
    "    'Trouble with my direct manager': 'stressedout', \n",
    "    'Trouble with my teammates': 'stressedout',     \n",
    "    'Just because': 'other', \n",
    "    'Having a bad day (or week or month) at work': 'other', \n",
    "    'nan': 'other', 'None': 'other',\n",
    "    'Wanting to share accomplishments with a wider network': 'other'\n",
    "}\n",
    "dfvalues = repl_df_dict(df, \"NEWJobHunt\", _dict, repl_strings=True)\n",
    "df['NEWJobHunt'] = dfvalues\n",
    "\n",
    "\n",
    "_dict = {\n",
    "    'Every few months': 'month', \n",
    "    'Once a year': 'year', \n",
    "    'Once every few years': 'decade', \n",
    "    'Once a decade': 'never',\n",
    "    'nan': 'other', 'None': 'other'\n",
    "}\n",
    "dfvalues = repl_df_dict(df, \"NEWLearn\", _dict, repl_strings=True)\n",
    "df['NEWLearn'] = dfvalues\n",
    "\n",
    "\n",
    "_dict={\n",
    "    'Windows': 'Win', \n",
    "    'Linux-based': 'Unix', \n",
    "    'MacOS': 'Mac', \n",
    "    'nan': 'ItsASecret', \n",
    "    'BSD': 'Unix'\n",
    "}\n",
    "dfvalues = repl_df_dict(df, \"OpSys\", _dict)\n",
    "df['OpSys'] = dfvalues\n",
    "\n",
    "\n",
    "_dict = {\n",
    "    '2-9 employees': 'empl_2_19',\n",
    "    '20 to 99 employees': 'empl_20_500', \n",
    "    '100 to 499 employees':'empl_20_500', \n",
    "    '10,000 or more employees': 'empl_10kp',     \n",
    "    '2 to 9 employees':'empl_2_19', \n",
    "    '10 to 19 employees': 'empl_2_19', \n",
    "    '500 to 999 employees':'empl_500_10k', \n",
    "    '1,000 to 4,999 employees':'empl_500_10k', \n",
    "    '5,000 to 9,999 employees':'empl_500_10k',\n",
    "    'nan': 'ItsASecret', \n",
    "    'Just me - I am a freelancer, sole proprietor, etc.': 'OneManShow',\n",
    "}\n",
    "dfvalues = repl_df_dict(df, \"OrgSize\", _dict)\n",
    "df['OrgSize'] = dfvalues\n",
    "\n",
    "\n",
    "_dict = {\n",
    "    'I have some influence': 'some influence', \n",
    "    'I have little or no influence': 'no influence', \n",
    "    'nan': 'ItsASecret', \n",
    "    'I have a great deal of influence': 'strong influence'\n",
    "}\n",
    "dfvalues = repl_df_dict(df, \"PurchaseWhat\", _dict)\n",
    "df['PurchaseWhat'] = dfvalues\n",
    "\n",
    "\n",
    "_dict = {\n",
    "    'Computer science, computer engineering, or software engineering': 'CS', \n",
    "    'Mathematics or statistics':'PureMaths', \n",
    "    'Another engineering discipline (such as civil, electrical, mechanical, etc.)':'Engineering',\n",
    "    'Another engineering discipline (ex. civil, electrical, mechanical)': 'Engineering',\n",
    "    'Information systems, information technology, or system administration': 'IT',     \n",
    "    'A business discipline (such as accounting, finance, marketing, etc.)': 'SGA',     \n",
    "    'nan': 'ItsASecret', \n",
    "}\n",
    "for xkey in ['A natural science (ex. biology, chemistry, physics)', \n",
    "             'A business discipline (ex. accounting, finance, marketing)', \n",
    "             'A humanities discipline (ex. literature, history, philosophy)', \n",
    "             'A humanities discipline (such as literature, history, philosophy, etc.)',\n",
    "             'A social science (ex. anthropology, psychology, political science)', \n",
    "             'A social science (such as anthropology, psychology, political science, etc.)',\n",
    "             'Fine arts or performing arts (ex. graphic design, music, studio art)',\n",
    "             'Fine arts or performing arts (such as graphic design, music, studio art, etc.)',\n",
    "             'A health science (ex. nursing, pharmacy, radiology)',\n",
    "             'Web development or web design',\n",
    "             'A health science (such as nursing, pharmacy, radiology, etc.)',\n",
    "             'A natural science (such as biology, chemistry, physics, etc.)',\n",
    "             'I never declared a major'\n",
    "            ]:\n",
    "    _dict[xkey] = 'Other'\n",
    "dfvalues = repl_df_dict(df, \"UndergradMajor\", _dict)\n",
    "df['UndergradMajor'] = dfvalues\n",
    "\n",
    "\n",
    "_dict = {}\n",
    "for xkey in ['SQL', 'Python', 'Bash/Shell/PowerShell',\n",
    "            'C++', 'C', 'R', 'Ruby', 'Rust', 'Kotlin', 'Swift']:\n",
    "    _dict[xkey] = xkey\n",
    "for xkey in ['JavaScript', 'HTML/CSS', 'Java', 'C#', 'PHP', 'TypeScript', 'VBA', \n",
    "             'Go', 'Other(s):', 'Assembly',  'Objective-C', 'Scala',\n",
    "             'Perl', 'Dart', 'F#', 'nan', 'Clojure', 'Elixir', 'Erlang', 'WebAssembly']:\n",
    "    _dict[xkey] = 'other'\n",
    "dfvalues = repl_df_dict(df, \"LanguageWorkedWith\", _dict)\n",
    "df['LanguageWorkedWith'] = dfvalues\n",
    "\n",
    "\n"
   ]
  },
  {
   "cell_type": "code",
   "execution_count": 23,
   "metadata": {
    "scrolled": true
   },
   "outputs": [
    {
     "ename": "NameError",
     "evalue": "name 'num_cols' is not defined",
     "output_type": "error",
     "traceback": [
      "\u001b[0;31m---------------------------------------------------------------------------\u001b[0m",
      "\u001b[0;31mNameError\u001b[0m                                 Traceback (most recent call last)",
      "\u001b[0;32m<ipython-input-23-4876678fccdf>\u001b[0m in \u001b[0;36m<module>\u001b[0;34m\u001b[0m\n\u001b[1;32m      1\u001b[0m \u001b[0;31m# used to fill up the dictionaries and check the result of the mapping for various categorical variables\u001b[0m\u001b[0;34m\u001b[0m\u001b[0;34m\u001b[0m\u001b[0;34m\u001b[0m\u001b[0m\n\u001b[0;32m----> 2\u001b[0;31m \u001b[0mcat_cols\u001b[0m \u001b[0;34m=\u001b[0m \u001b[0mlist\u001b[0m\u001b[0;34m(\u001b[0m\u001b[0mfilter\u001b[0m\u001b[0;34m(\u001b[0m\u001b[0;32mlambda\u001b[0m \u001b[0mx\u001b[0m\u001b[0;34m:\u001b[0m \u001b[0mx\u001b[0m \u001b[0;32mnot\u001b[0m \u001b[0;32min\u001b[0m \u001b[0mnum_cols\u001b[0m \u001b[0;32mand\u001b[0m \u001b[0mx\u001b[0m \u001b[0;32mnot\u001b[0m \u001b[0;32min\u001b[0m \u001b[0;34m[\u001b[0m\u001b[0mid_col\u001b[0m\u001b[0;34m,\u001b[0m \u001b[0mtarget_col\u001b[0m\u001b[0;34m]\u001b[0m\u001b[0;34m,\u001b[0m \u001b[0mdf\u001b[0m\u001b[0;34m.\u001b[0m\u001b[0mcolumns\u001b[0m\u001b[0;34m)\u001b[0m\u001b[0;34m)\u001b[0m\u001b[0;34m\u001b[0m\u001b[0;34m\u001b[0m\u001b[0m\n\u001b[0m\u001b[1;32m      3\u001b[0m \u001b[0;32mfor\u001b[0m \u001b[0mxcol\u001b[0m \u001b[0;32min\u001b[0m \u001b[0mcat_cols\u001b[0m\u001b[0;34m:\u001b[0m\u001b[0;34m\u001b[0m\u001b[0;34m\u001b[0m\u001b[0m\n\u001b[1;32m      4\u001b[0m     \u001b[0mprint\u001b[0m\u001b[0;34m(\u001b[0m\u001b[0;34m\"\\n==========================\"\u001b[0m\u001b[0;34m)\u001b[0m\u001b[0;34m\u001b[0m\u001b[0;34m\u001b[0m\u001b[0m\n\u001b[1;32m      5\u001b[0m     \u001b[0mprint\u001b[0m\u001b[0;34m(\u001b[0m\u001b[0;34m\"COL: {}\"\u001b[0m\u001b[0;34m.\u001b[0m\u001b[0mformat\u001b[0m\u001b[0;34m(\u001b[0m\u001b[0mxcol\u001b[0m\u001b[0;34m)\u001b[0m\u001b[0;34m)\u001b[0m\u001b[0;34m\u001b[0m\u001b[0;34m\u001b[0m\u001b[0m\n",
      "\u001b[0;32m<ipython-input-23-4876678fccdf>\u001b[0m in \u001b[0;36m<lambda>\u001b[0;34m(x)\u001b[0m\n\u001b[1;32m      1\u001b[0m \u001b[0;31m# used to fill up the dictionaries and check the result of the mapping for various categorical variables\u001b[0m\u001b[0;34m\u001b[0m\u001b[0;34m\u001b[0m\u001b[0;34m\u001b[0m\u001b[0m\n\u001b[0;32m----> 2\u001b[0;31m \u001b[0mcat_cols\u001b[0m \u001b[0;34m=\u001b[0m \u001b[0mlist\u001b[0m\u001b[0;34m(\u001b[0m\u001b[0mfilter\u001b[0m\u001b[0;34m(\u001b[0m\u001b[0;32mlambda\u001b[0m \u001b[0mx\u001b[0m\u001b[0;34m:\u001b[0m \u001b[0mx\u001b[0m \u001b[0;32mnot\u001b[0m \u001b[0;32min\u001b[0m \u001b[0mnum_cols\u001b[0m \u001b[0;32mand\u001b[0m \u001b[0mx\u001b[0m \u001b[0;32mnot\u001b[0m \u001b[0;32min\u001b[0m \u001b[0;34m[\u001b[0m\u001b[0mid_col\u001b[0m\u001b[0;34m,\u001b[0m \u001b[0mtarget_col\u001b[0m\u001b[0;34m]\u001b[0m\u001b[0;34m,\u001b[0m \u001b[0mdf\u001b[0m\u001b[0;34m.\u001b[0m\u001b[0mcolumns\u001b[0m\u001b[0;34m)\u001b[0m\u001b[0;34m)\u001b[0m\u001b[0;34m\u001b[0m\u001b[0;34m\u001b[0m\u001b[0m\n\u001b[0m\u001b[1;32m      3\u001b[0m \u001b[0;32mfor\u001b[0m \u001b[0mxcol\u001b[0m \u001b[0;32min\u001b[0m \u001b[0mcat_cols\u001b[0m\u001b[0;34m:\u001b[0m\u001b[0;34m\u001b[0m\u001b[0;34m\u001b[0m\u001b[0m\n\u001b[1;32m      4\u001b[0m     \u001b[0mprint\u001b[0m\u001b[0;34m(\u001b[0m\u001b[0;34m\"\\n==========================\"\u001b[0m\u001b[0;34m)\u001b[0m\u001b[0;34m\u001b[0m\u001b[0;34m\u001b[0m\u001b[0m\n\u001b[1;32m      5\u001b[0m     \u001b[0mprint\u001b[0m\u001b[0;34m(\u001b[0m\u001b[0;34m\"COL: {}\"\u001b[0m\u001b[0;34m.\u001b[0m\u001b[0mformat\u001b[0m\u001b[0;34m(\u001b[0m\u001b[0mxcol\u001b[0m\u001b[0;34m)\u001b[0m\u001b[0;34m)\u001b[0m\u001b[0;34m\u001b[0m\u001b[0;34m\u001b[0m\u001b[0m\n",
      "\u001b[0;31mNameError\u001b[0m: name 'num_cols' is not defined"
     ]
    }
   ],
   "source": [
    "# used to fill up the dictionaries and check the result of the mapping for various categorical variables\n",
    "cat_cols = list(filter(lambda x: x not in num_cols and x not in [id_col, target_col], df.columns))\n",
    "for xcol in cat_cols:\n",
    "    print(\"\\n==========================\")\n",
    "    print(\"COL: {}\".format(xcol))\n",
    "    xr = dbeschreiben.frequenz_werte(df, xcol=xcol, prozente=False, sep=\";\")\n",
    "    print(xr.index.values.tolist())"
   ]
  },
  {
   "cell_type": "markdown",
   "metadata": {},
   "source": [
    "Further filters:"
   ]
  },
  {
   "cell_type": "code",
   "execution_count": null,
   "metadata": {},
   "outputs": [],
   "source": [
    "# Age over 65 ist very unprobable\n",
    "for ik in range(df.shape[0]):\n",
    "    if df.at[ik, 'Age'] >= 65:\n",
    "        df.at[ik, 'Age'] = np.nan\n",
    "\n",
    "\n",
    "# if Age < YearsCode or Age1stCode > Age something is wrong with at least one of them\n",
    "for ik in df[list(map(lambda x: x[0] < x[1], df[[\"Age\", \"YearsCode\"]].values))].index:\n",
    "    if df.at[ik, 'Age'] >= df.at[ik, 'YearsCode']:\n",
    "        df.at[ik, 'YearsCode'] = np.nan\n",
    "    if df.at[ik, 'Age1stCode'] >= df.at[ik, 'Age']:\n",
    "        df.at[ik, 'Age1stCode'] = np.nan\n",
    "\n",
    "\n",
    "# ConvertedComp too large?\n",
    "for ik in df.index:\n",
    "    if df.at[ik, 'ConvertedComp'] >= 200000: # even if someone would indeed earn that much, no point in keeping\n",
    "        df.at[ik, 'ConvertedComp'] = np.nan\n",
    "    if df.at[ik, 'ConvertedComp'] == 0.0:\n",
    "        df.at[ik, 'ConvertedComp'] = np.nan        \n",
    "\n",
    "if target_col == \"ConvertedComp\":\n",
    "    df = df[list(map(lambda x: not np.isnan(x), df[target_col].values))]\n",
    "    df = df.reset_index(drop=True)\n",
    "\n",
    "\n",
    "for ik in df.index:\n",
    "    if df.at[ik, 'WorkWeekHrs'] >= 75:\n",
    "        df.at[ik, 'WorkWeekHrs'] = np.nan\n",
    "\n"
   ]
  },
  {
   "cell_type": "code",
   "execution_count": null,
   "metadata": {},
   "outputs": [],
   "source": [
    "# separate categorical and numerical features\n",
    "num_cols = list(filter(lambda x: x not in [id_col, target_col], df.describe().columns))\n",
    "cat_cols = list(filter(lambda x: x not in num_cols and x not in [id_col, target_col], df.columns))\n",
    "\n",
    "print(num_cols, \"\\n\")\n",
    "print(cat_cols, \"\\n\")\n",
    "print(target_col)"
   ]
  },
  {
   "cell_type": "markdown",
   "metadata": {},
   "source": [
    "# 5. Handling missing data"
   ]
  },
  {
   "cell_type": "markdown",
   "metadata": {},
   "source": [
    "#### Fill up missing values for numeric variables using an iterative clustering method\n",
    "This is not definitive, since I'm getting back and forth through EA-Phase"
   ]
  },
  {
   "cell_type": "code",
   "execution_count": null,
   "metadata": {},
   "outputs": [],
   "source": [
    "dbeschreiben.xProzentNullenInDF(df[num_cols + [target_col]])"
   ]
  },
  {
   "cell_type": "code",
   "execution_count": null,
   "metadata": {
    "scrolled": true
   },
   "outputs": [],
   "source": [
    "# perform a replacement of mising values by using k-means clustering\n",
    "# the idea is to iterate over each feature, that has missing values, \n",
    "#     cluster data and replace those missing values with the centers of clusters\n",
    "dfres = get_dataframe_filled(df, num_cols, id_col, target_col)\n",
    "dfres['JobSat'] = [int(np.round(t, 0)) for t in dfres['JobSat']]"
   ]
  },
  {
   "cell_type": "markdown",
   "metadata": {},
   "source": [
    "# 6. Exploratory Analysis"
   ]
  },
  {
   "cell_type": "markdown",
   "metadata": {},
   "source": [
    "Numeric and categorical values treated in separate dataframes"
   ]
  },
  {
   "cell_type": "code",
   "execution_count": null,
   "metadata": {},
   "outputs": [],
   "source": [
    "dfnum = dfres[num_cols + [target_col]]\n",
    "dfcat = dfres[cat_cols]"
   ]
  },
  {
   "cell_type": "code",
   "execution_count": null,
   "metadata": {},
   "outputs": [],
   "source": [
    "# export for Rapidminer visualisations\n",
    "N = min(dfres.shape[0], 10000)\n",
    "xselekt_cols = [\"JobSat\", \"Age\", \"YearsCodePro\", \"ConvertedComp\", \"WorkWeekHrs\", \"EdLevel\"]\n",
    "dfres[xselekt_cols].sample(N).to_csv(data_dir + \"/2rm_ea.csv\", encoding=\"utf-8\", index=False)\n",
    "\n",
    "dfres.describe()"
   ]
  },
  {
   "cell_type": "markdown",
   "metadata": {},
   "source": [
    "### Visualisations with Rapidminer\n",
    "\n",
    "<b> All Referenced diagrams are in /data/diagrams/ folder </b>\n",
    "\n",
    "RM visualizations to help keeping some of the variables that might help explaining either income or job satisfaction\n",
    "\n",
    "    - ConvertedComp: \n",
    "    After cleaning up values larger than 0.5 Mil the average value lies at about 96k (including US data) and about 65k without considering US. This is the reason why US data was not included in the final analysis.\n",
    "\n",
    "<b>VIS1</b>: Interesting how the high Salary describes almost a U-shape curve with satisfaction. This could be seen as the of the mean: the least and the highest satisfaction levels correspond to highest income.\n",
    "\n",
    "    - Age: does not seem to be trustworthy from 65 upwards judging by the histogram.\n",
    "    Some values are questionable, for example: \n",
    "        - 177 users report being 65 years old or older out of which 91 saying they’re professional developers, while it may be that this number of people are legitimate older developers, taking them into acount for our purpose of analysing data scientists especially is not recommended, as to reduce the possible influence of outliers\n",
    "        - One record reports a value for age of 279.\n",
    "\n",
    "One way to go about this is to set these values to None and redo the step for filling of missing values. Considering Age1stCode looks like most are now about 30 years old and started their Coding life in early life, 10 - 16 years.\n",
    "\n",
    "Further interesting features are Age1stCode, YearsCode and YearsCodePro.\n",
    "    - There are some records where YearsCode > Age, which can’t be true, so can be set as None\n",
    "    - Also there is important that Age1stCode > Age holds\n",
    "\n",
    "In all cases they can be set to None and passed to the method that will try to replace all missing values\n",
    "After filtering and taking care of possible wrong values, the Histograms leads to following conclusions out the visual inspection:\n",
    "    - On average users age lie around value 30. Most of the survey users started at an early age of less than 16, more than 10\n",
    "    - Most of survey users gather programming experience up to 20 years\n",
    "    - Professional coding seem to drop almost exponential, with most of survey users with less than 15 years of professional programming experience (a strong arguement to replace those with age 65+ with None values)\n",
    "\n",
    "Similar problems with WorkWeekHrs:\n",
    "\t- some values are larger than 75, which according to the histograms is very unlikely (also for practical reasons).\n",
    "\n",
    "\n",
    "<b>VIS2</b>: Age does seem to correlate well with the increase in average income.\n",
    "Taking a look at the point statistics of Age and years coded, on average users started at the age of 15, are currently 34, work on average 41 hours a week, took 6 years to advance to professional coding and earn currently around 95k. From country to country the average ConvertedComp value ist in some cases significantly different, with Germany and France at the lowest end while US at the top.\n",
    "\n",
    "\n",
    "<b>VIS3</b>: While European countries have quite similar average income salaries with Canada and UK somewhat higher rates (about 20% - 30%), the US represents an outlier as salaries reach almost twice as much as in other countries.\n",
    "This is the reason US records were removed, so as to deal with the rest of countries in the same area of income.\n",
    "\n",
    "\n",
    "<b>VIS4</b>: A Master’s degree seems to be just a marginally improvement in the income salary as already seen in previous data surveys;  This changes significantly when having a doctoral degree; this results in an increases of average income to about 75k from the 65k seen in other visualisations.\n",
    "Possible further problems in assessing the actual benefit of having one academic degree over the other, or none at all can also be related to the fact that the younger generation, that still needs time to get to higher degrees, start already with higher paychecks, this would explain the closeness of the three groups.\n",
    "\n",
    "\n",
    "<b>VIS6</b>: Hobyists\n",
    "Interesting relationship between Hobbyists and Non-Hobbyists. \n",
    "While one may think, a job related Hobby such as coding might increase chances for higher wages, that doesn’t seem to hold; at least not for all countries in the same manner.\n",
    "\n",
    "In UK the average wage of Non-Hobbyists lies about 5k over the other groups. The strongest unexpected difference is in the case Canada, UK and Ireland, the difference lies at about 3k (less for Hobbyists). Can it be that through Hobby one develops skills that make working with colleagues harder than otherwise? Maybe one gets so deep in the engineering of things, that the desire to do things right becomes counterproductive?\n",
    "\n",
    "On the other hand, he who has time for coding as a hobby, does not invest in other activities such as socializing and networking. This one aspect is important, since the capacity to connect, network and influence others has the benefit of financially rewarding the individual without having to actually fulfill the expert requirements.\n",
    "\n",
    "\n",
    "<b>VIS7</b>: Mac OS users earn more, in some case about 20% more.\n",
    "\n",
    "\n",
    "<b>VIS8</b>: \n",
    "Looking at the income related to size of companies some aspects are quite interesting:\n",
    "    - Freelancers or one-man companies earn extremely well, which explains some of the other visualizations\n",
    "    - In Germany smaller companies pay 65 - 68k, this changes dramatically only when companies grow past 10k employees, then the average raises to about 85k\n",
    "    - Compared to Germany, US companies seem to pay upfront way better, starting with startups 10 to 100 employees that already pay double the German wage.\n",
    "\n",
    "\n",
    "<b> VIS9, VIS10 </b>: Job satisfaction amongst CS and mathematicians/statisticians\n",
    "It seems for those that are satisfied at 4 and 5 relatively earn about the same 65k to 70k\n",
    "All in all looking at the barchart those that are satisfied with their jobs and earning about 70k or more have either a Computer Science degree, Mathematics, Statistics or Engineering. Also specializations in business related disciplines such as accountants, controlling and marketing are also earning better than other groups. But this relation does not seem to hold from country to country. So for example in Germany a CS degree brings less than Mathematics but in Austria the relation changes the sign.\n",
    "This could be related to local market situation or cultural differences, which makes assessing all countries difficult, even with the current selection.\n",
    "\n",
    "\n",
    "<b>VIS11</b>:\n",
    "    - The JobSeek features revealed another interesting aspect:\n",
    "    It seems between those that are not looking and those that might be interested, but not looking actively, there isn’t much of a difference in earnings, except between countries themselves. This changes in case of those that are actively seeking, they tend to have lower average wages. This again applies for some countries. For countries like Switzerland, Norway, Denmark and Ireland the users actually report higher wages than those that are not seeking jobs.\n",
    "This result is in accordance to the frequency table of the NEWJobHunt variable which shows that „Better compensation“ represents 58% of all cases\n",
    "\n",
    "These observations might be explained by:\n",
    "    - Relative income on local market is more important than the absolute value\n",
    "    - Since larger income correlates with large corporations it might be that in these situations the job fluctuation gets higher, the higher the company is. This cannot be checked with the current data.\n",
    "\n",
    "\n",
    "\n",
    "Point statistics:\n",
    "    - The average ConvertedComp lies at around 65k with a standard deviation of around 33k; this is relatively large and can be explained by the fact that due to the fact that salaries are usually negotiated between each employee and the company, while remaining unknown for other, results in opportunity for companies to pay within a large interval.\n",
    "\n",
    "\n",
    "    ___________________________________________\n",
    "\n",
    "Some other questions answered:\n",
    "\n",
    " - How do age groups look like?\n",
    " <b><i>It does seem that income and age are related, that is the older and more experienced one is, the higher the income. The increase seems to flatten around 40-50 years at levels around 85k but this can be tricky, since the younger generation starts already at higher paychecks. Other aspects such as economic development of countries, as well as development of data science industry as a whole make an assessment difficult. Job satisfaction doesn't seem to be related to income, most probably because some other factors do influence satisfaction stronger: such are education  related features (for example doctoral degree yes, but not master's degree), geographical location and work environment<b><i>\n",
    "  \n",
    "     - How many years of programming experience is the minimum one needs to bring with?\n",
    "<b><i> Using the point statistics the typical data scientist would be 34 years, started programming at age 15, and has at least 6 years of professional experience, which seems to be realistic, if someone finished their studies at 28, including maybe a doctoral degree </b></i>\n",
    "\n",
    "\n",
    " - How is Hobby-Programming influencing the income?\n",
    "<b><i> An interesting relationship between Hobbyists and Non-Hobbyists income was found. While one may think, a job related Hobby such as coding might increase chances for higher wages, that doesn’t seem to hold; at least not for all countries in the same manner.\n",
    "In UK the average wage of Non-Hobbyists lies about 5k over the other group. \n",
    "The strongest unexpected difference is in the case Canada, UK and Ireland, the difference lies at about 3k (less for Hobbyist). </i></b>   \n",
    "\n",
    "     - Do you need a Master’s degree? What about Doctoral degree? Does this improve satisfaction and/or income level?\n",
    "<b><i> Beside the already known aspects (having a master's degree does not bring on average more money than having no master's at all), one interesting new aspect was that having a doctoral degree does indeed increase both satisfaction and income. Possible explanation is the curse of being at the mean, so a master's degree is a small step, but not entirely done to achieve highest academic level. This holds true also when considering that satisfaction is rather relatively to others </i></b>\n",
    "    \n",
    "\n"
   ]
  },
  {
   "cell_type": "code",
   "execution_count": null,
   "metadata": {},
   "outputs": [],
   "source": [
    "# data check for age related variables\n",
    "xtemp = df[list(map(lambda x: not np.isnan(x), df['Age'].values))][[\"Age1stCode\", \"Age\", \"YearsCode\", \"YearsCodePro\"]]\n",
    "xtemp[\"+\"] = xtemp.Age1stCode + xtemp.YearsCode\n",
    "\n",
    "print(xtemp.describe())\n",
    "print(\"\")\n",
    "print(xtemp.sample(5))\n",
    "\n",
    "_ = xtemp.plot.scatter(x=\"Age\", y=\"+\", s=3)"
   ]
  },
  {
   "cell_type": "markdown",
   "metadata": {},
   "source": [
    "Age should be at least Age1stCode + YearsCode. Obviously there are some where this doesn't sum up, but since they are few, this could be left for a later fix, in case the model is to be optimized."
   ]
  },
  {
   "cell_type": "markdown",
   "metadata": {},
   "source": [
    "#### None values in numeric columns:"
   ]
  },
  {
   "cell_type": "code",
   "execution_count": null,
   "metadata": {},
   "outputs": [],
   "source": [
    "# at this point there should be none missing, if the replacement was done earlier\n",
    "dbeschreiben.xProzentNullenInDF(dfnum)"
   ]
  },
  {
   "cell_type": "markdown",
   "metadata": {},
   "source": [
    "#### None values in categorical columns:"
   ]
  },
  {
   "cell_type": "code",
   "execution_count": null,
   "metadata": {},
   "outputs": [],
   "source": [
    "xr = dbeschreiben.xProzentNullenInDF(dfcat)\n",
    "xr.sort_values(by=1, ascending=False)"
   ]
  },
  {
   "cell_type": "markdown",
   "metadata": {},
   "source": [
    "#### Frequencies, descriptions"
   ]
  },
  {
   "cell_type": "code",
   "execution_count": null,
   "metadata": {
    "scrolled": true
   },
   "outputs": [],
   "source": [
    "dfcat.describe()"
   ]
  },
  {
   "cell_type": "code",
   "execution_count": null,
   "metadata": {},
   "outputs": [],
   "source": [
    "dbeschreiben.frequenz_werte(dfres, xcol=\"Country\", prozente=True, sep=\";\")"
   ]
  },
  {
   "cell_type": "code",
   "execution_count": null,
   "metadata": {},
   "outputs": [],
   "source": [
    "dbeschreiben.frequenz_werte(df, xcol=\"NEWJobHunt\", prozente=True, sep=\";\")"
   ]
  },
  {
   "cell_type": "code",
   "execution_count": null,
   "metadata": {
    "scrolled": false
   },
   "outputs": [],
   "source": [
    "dbeschreiben.frequenz_werte(df, xcol=\"LanguageWorkedWith\", prozente=True, sep=\";\")"
   ]
  },
  {
   "cell_type": "markdown",
   "metadata": {},
   "source": [
    "#### Transform categorical variables in dummy variables"
   ]
  },
  {
   "cell_type": "code",
   "execution_count": null,
   "metadata": {},
   "outputs": [],
   "source": [
    "# I want a model that covers all selected countries, but not be able to use country as a feature\n",
    "\n",
    "# This way I'm expecting to get mean values over all of them\n",
    "# categ_cols_except_country = list(filter(lambda x: x != \"Country\", dfcat.columns))\n",
    "categ_cols_except_country = dfcat.columns\n",
    "xdfcat_dummy = dbeschreiben.kateg2dummy(dfcat[categ_cols_except_country], sep=\";\")\n",
    "xdfcat_dummy.head(5)"
   ]
  },
  {
   "cell_type": "markdown",
   "metadata": {},
   "source": [
    "# 7. Handling multicolinearity and dimensionality reduction"
   ]
  },
  {
   "cell_type": "markdown",
   "metadata": {},
   "source": [
    "Remove strong intercolinear features; threshold used is +/- 0.7"
   ]
  },
  {
   "cell_type": "code",
   "execution_count": null,
   "metadata": {},
   "outputs": [],
   "source": [
    "xcorrdf = xdfcat_dummy.corr()\n",
    "remove_cols = []\n",
    "for xcol in xcorrdf.columns:\n",
    "    if xcol in remove_cols:\n",
    "        continue\n",
    "    list_high_corrs = list(map(lambda x: np.abs(x) > 0.7, xcorrdf[xcol].values))\n",
    "    _cols = xcorrdf[list_high_corrs].index.values.tolist()\n",
    "    _cols = list(filter(lambda x: x != xcol, _cols))\n",
    "    if len(_cols) != 0:\n",
    "        print(\"\\n{}:\".format(xcol), _cols)        \n",
    "        remove_cols.extend(_cols)\n",
    "\n",
    "print(\"\\nColumns with high correlation to another feature (non-target):\")\n",
    "print(remove_cols)\n",
    "xdfcat_dummy = xdfcat_dummy[list(filter(lambda x: x not in remove_cols, xdfcat_dummy.columns))]"
   ]
  },
  {
   "cell_type": "markdown",
   "metadata": {},
   "source": [
    "Since the dimensionality is now too high for the current needs, as I'm looking for a parsimonious model to describe data, one can try to generate many different models and see which one gives the best R^2 while using the lowest number of variables."
   ]
  },
  {
   "cell_type": "code",
   "execution_count": null,
   "metadata": {
    "scrolled": false
   },
   "outputs": [],
   "source": [
    "reload(dabfrage)\n",
    "print(\"Target:\", target_col, \"\\n\")\n",
    "target = dfnum[[target_col]]\n",
    "xLdf, dict_coefs, empfK = dabfrage.kateg_felder_schwellenwert_auswahl_mit_lm(xdfcat_dummy, \n",
    "                                                                             target, \n",
    "                                                                             starte_ab = 0.7, \n",
    "                                                                             do_plot=True)\n",
    "print(\"Parsimonie + R^2: \", empfK)\n"
   ]
  },
  {
   "cell_type": "code",
   "execution_count": null,
   "metadata": {},
   "outputs": [],
   "source": [
    "# merge transformed categorical variables with the numerical ones\n",
    "# not allowing JobStat to be part of the model, since it only can be a result of different factors, \n",
    "# including the income\n",
    "\n",
    "xdfInput = pd.merge(xdfcat_dummy, \n",
    "                    dfnum[list(filter(lambda x: x != 'JobStat', dfnum.columns))], \n",
    "                    left_index=True, right_index=True)\n",
    "print(\"\")\n",
    "print(xdfInput.columns)"
   ]
  },
  {
   "cell_type": "code",
   "execution_count": null,
   "metadata": {},
   "outputs": [],
   "source": [
    "xdfInput.describe()"
   ]
  },
  {
   "cell_type": "code",
   "execution_count": null,
   "metadata": {
    "scrolled": false
   },
   "outputs": [],
   "source": [
    "# Correlations stronger than 0.02 (or lower than -0.02)\n",
    "threshold_corr = 0.01\n",
    "\n",
    "xtemp_corr = xdfInput.corr()[\"ConvertedComp\"]\n",
    "xcorr1 = xtemp_corr[list(map(lambda x: np.abs(x) > threshold_corr, xtemp_corr.values))]\n",
    "xcorr1df = pd.DataFrame({\n",
    "    'feature': xcorr1.index.values,\n",
    "    'ConvertedCompCorr': xcorr1.values\n",
    "})\n",
    "\n",
    "xtemp_corr = xdfInput.corr()[\"JobSat\"]\n",
    "xcorr2 = xtemp_corr[list(map(lambda x: np.abs(x) > threshold_corr, xtemp_corr.values))]\n",
    "xcorr2df = pd.DataFrame({\n",
    "    'feature': xcorr2.index.values,\n",
    "    'JobStatCorr': xcorr2.values\n",
    "})\n",
    "\n",
    "dfcorr = pd.merge(xcorr1df, xcorr2df, left_index=False, right_index=False)\n",
    "dfcorr = dfcorr.sort_values(by=[\"JobStatCorr\", \"ConvertedCompCorr\"], ascending=False)\n",
    "dfcorr"
   ]
  },
  {
   "cell_type": "code",
   "execution_count": null,
   "metadata": {},
   "outputs": [],
   "source": [
    "from functools import reduce\n",
    "# taking multiple solutions around the optimum point, \n",
    "# using 1-4 results around the best location and making a list out of \"winning\" features\n",
    "xmin = (empfK-3) if (empfK-3) > 0 else 0\n",
    "xmax = (empfK+3) if (empfK+3) < xLdf.shape[0] else (xLdf.shape[0]-1)\n",
    "best_dummys = list(set(reduce(lambda a,b:  a + b, xLdf.iloc[:(empfK+3)].xselekt_cols.tolist())))\n",
    "xselekt_cols = best_dummys + dfnum.columns.tolist()\n",
    "xselekt_cols = list(filter(lambda x: x not in [target_col, 'JobSat'], xselekt_cols))\n",
    "print(\"Selected features:\", xselekt_cols)\n"
   ]
  },
  {
   "cell_type": "markdown",
   "metadata": {},
   "source": [
    "## Further feature selection reduction by p-Values of an LM Model"
   ]
  },
  {
   "cell_type": "code",
   "execution_count": null,
   "metadata": {
    "scrolled": false
   },
   "outputs": [],
   "source": [
    "X = xdfInput[xselekt_cols]\n",
    "y = xdfInput[target_col]\n",
    "\n",
    "X2 = sm.add_constant(X)\n",
    "est = sm.OLS(y, X2)\n",
    "est2 = est.fit()\n",
    "print(est2.summary())"
   ]
  },
  {
   "cell_type": "code",
   "execution_count": null,
   "metadata": {},
   "outputs": [],
   "source": [
    "significant_table = pd.DataFrame({\n",
    "    'feature': est2.pvalues.index.values.tolist(),\n",
    "    'pValue': est2.pvalues.values.tolist(),\n",
    "    'significant': [t <= 0.1 for t in est2.pvalues.tolist()]\n",
    "})\n",
    "significant_table = significant_table[significant_table.feature != \"const\"]\n",
    "print(significant_table[significant_table.significant == True])\n"
   ]
  },
  {
   "cell_type": "markdown",
   "metadata": {},
   "source": [
    "## Correlation of selected features"
   ]
  },
  {
   "cell_type": "code",
   "execution_count": null,
   "metadata": {},
   "outputs": [],
   "source": [
    "xselekt_cols = significant_table[significant_table.significant == True].feature.values.tolist()"
   ]
  },
  {
   "cell_type": "code",
   "execution_count": null,
   "metadata": {},
   "outputs": [],
   "source": [
    "import seaborn as sns\n",
    "f, ax = plt.subplots(figsize=(12, 10))\n",
    "_ = sns.heatmap(xdfInput[[target_col, 'JobSat'] + xselekt_cols].corr())"
   ]
  },
  {
   "cell_type": "markdown",
   "metadata": {},
   "source": [
    "# 8. Linear Model"
   ]
  },
  {
   "cell_type": "code",
   "execution_count": null,
   "metadata": {
    "scrolled": false
   },
   "outputs": [],
   "source": [
    "# Build one linear model\n",
    "reload(dabfrage)\n",
    "_ = dabfrage.mit_lm(xdfInput, xselekt_cols, target_col, \n",
    "                    outputs=True, do_norm=False, shuffle_cols=False)\n",
    "Xvis, r2_perf, rmse_perf, xcoeffsDF, grundwert = _\n",
    "\n",
    "print(r2_perf, rmse_perf)\n"
   ]
  },
  {
   "cell_type": "markdown",
   "metadata": {},
   "source": [
    "### Finding means of parameters of best LM Model"
   ]
  },
  {
   "cell_type": "code",
   "execution_count": null,
   "metadata": {
    "scrolled": false
   },
   "outputs": [],
   "source": [
    "# perform a simulation and find the means of the coefficients of the model\n",
    "xdf_cols_stats, parameter_means = dabfrage.simulation_lm(xdfInput, \n",
    "                                                         xselekt_cols, target_col, nsim=300)"
   ]
  },
  {
   "cell_type": "markdown",
   "metadata": {},
   "source": [
    "Resulted model ist just one in a family of possible Models. It seems they tend to group features by certain categories\n",
    "Each execution of the Notebook results in a new model. "
   ]
  },
  {
   "cell_type": "code",
   "execution_count": null,
   "metadata": {
    "scrolled": false
   },
   "outputs": [],
   "source": [
    "# show some example from the data with the calculation details expanded\n",
    "dabfrage.zeige_lm_berechnung(xdfInput, xselekt_cols, target_col, parameter_means)\n"
   ]
  },
  {
   "cell_type": "code",
   "execution_count": null,
   "metadata": {},
   "outputs": [],
   "source": [
    "# by using the means of parameters of the model, there is a good possibility to improve the R^2 metric\n",
    "if True:\n",
    "    xpred = [dabfrage.do_lm_berechnung(xdfInput[xselekt_cols + [target_col]].iloc[k].to_dict(),\n",
    "                                       target_col, parameter_means, voraussage=True)\n",
    "             for k in range(xdfInput.shape[0])]\n",
    "    r2_perf = r2_score(xdfInput[target_col].values, xpred)\n",
    "    rmse_perf = np.sqrt(mean_squared_error(xdfInput[target_col].values, xpred))\n",
    "    print(r2_perf, rmse_perf)\n",
    "    f, ax = plt.subplots(figsize=(10, 8))\n",
    "    plt.scatter(x=xdfInput[target_col].values, y=xpred, s=4, alpha=0.3); \n",
    "    plt.xlabel(target_col)\n",
    "    plt.ylabel(\"pred({})\".format(target_col))\n",
    "    plt.show()"
   ]
  },
  {
   "cell_type": "code",
   "execution_count": null,
   "metadata": {},
   "outputs": [],
   "source": []
  },
  {
   "cell_type": "code",
   "execution_count": null,
   "metadata": {},
   "outputs": [],
   "source": [
    "# transfer to Rapidminer for a trial model\n",
    "N = min(xdfInput.shape[0], 10000)\n",
    "xdfInput[xselekt_cols + [target_col]].sample(N).to_csv(data_dir + \"/2rm_train.csv\", encoding=\"utf-8\", index=False)\n",
    "\n",
    "dfres.describe()"
   ]
  },
  {
   "cell_type": "code",
   "execution_count": null,
   "metadata": {},
   "outputs": [],
   "source": [
    "print(\"Model using Features:\")\n",
    "print(xselekt_cols)"
   ]
  },
  {
   "cell_type": "markdown",
   "metadata": {},
   "source": [
    "### Exports for datawrapper for 4 visualizations"
   ]
  },
  {
   "cell_type": "code",
   "execution_count": null,
   "metadata": {},
   "outputs": [],
   "source": [
    "# export datawrapper for Q1: scatterplot predicted vs actual\n",
    "xtemp = pd.DataFrame({\n",
    "    target_col: xdfInput[target_col].values,\n",
    "    'Prediction': xpred\n",
    "})\n",
    "\n",
    "xtemp.to_csv(data_dir + \"/datawrapper_q1.csv\", encoding=\"utf-8\", index=False)\n",
    "xtemp.head(5)\n"
   ]
  },
  {
   "cell_type": "code",
   "execution_count": null,
   "metadata": {},
   "outputs": [],
   "source": [
    "# export datawrapper for Q3: YearsCodePro vs ConvertedComp\n",
    "xtemp = pd.DataFrame({\n",
    "    target_col: dfres[target_col].values,\n",
    "    'UndergradMajor': dfres[\"UndergradMajor\"].values,\n",
    "    'JobSat': xdfInput[\"JobSat\"].values,\n",
    "}) \n",
    "xtemp = xtemp[xtemp.UndergradMajor != 'ItsASecret']\n",
    "xtemp = xtemp.groupby(\"UndergradMajor\").mean()\n",
    "xtemp['UndergradMajor'] = xtemp.index.values\n",
    "xtemp = xtemp.reset_index(drop=True)\n",
    "\n",
    "xtemp.to_csv(data_dir + \"/datawrapper_q3.csv\", encoding=\"utf-8\", index=False)\n",
    "xtemp"
   ]
  },
  {
   "cell_type": "code",
   "execution_count": null,
   "metadata": {},
   "outputs": [],
   "source": [
    "# export datawrapper for Q4: job satisfaction, average income and programming languages\n",
    "xtemp = pd.DataFrame({\n",
    "     target_col: dfres[target_col].values,\n",
    "    'Python': xdfcat_dummy[\"LanguageWorkedWith_Python\"].values,\n",
    "    'SQL': xdfcat_dummy[\"LanguageWorkedWith_Sql\"].values,\n",
    "    'Python': xdfcat_dummy[\"LanguageWorkedWith_Python\"].values,\n",
    "    'R': xdfcat_dummy[\"LanguageWorkedWith_R\"].values,\n",
    "    'C': xdfcat_dummy[\"LanguageWorkedWith_C\"].values,    \n",
    "    'Swift': xdfcat_dummy[\"LanguageWorkedWith_Swift\"].values,\n",
    "    'Kotlin': xdfcat_dummy[\"LanguageWorkedWith_Kotlin\"].values, \n",
    "    'JobSat': dfres[\"JobSat\"].values,\n",
    "    'YearsCodePro': dfres[\"YearsCodePro\"].values,\n",
    "}) \n",
    "xtemp = xtemp.groupby(\"JobSat\").mean()\n",
    "xtemp[\"JobSat\"] = xtemp.index.values\n",
    "xtemp[\"ConvertedComp\"] = [int(np.round(t, 0)) for t in xtemp[\"ConvertedComp\"].values]\n",
    "xtemp = xtemp.reset_index(drop=True)\n",
    "xtemp.to_csv(data_dir + \"/datawrapper_q4.csv\", encoding=\"utf-8\", index=False)\n",
    "\n",
    "print(xtemp)"
   ]
  },
  {
   "cell_type": "code",
   "execution_count": null,
   "metadata": {},
   "outputs": [],
   "source": [
    "# export datawrapper for Q5: YearsCodePro vs ConvertedComp\n",
    "xtemp = pd.DataFrame({\n",
    "    target_col: dfres[target_col].values,\n",
    "    'JobSeek': dfres[\"JobSeek\"].values,\n",
    "    'JobSat': dfres[\"JobSat\"].values,\n",
    "    'Country': dfres[\"Country\"].values,\n",
    "}) \n",
    "\n",
    "xtemp = xtemp.groupby([\"Country\", \"JobSeek\"]).median()\n",
    "xtemp['Country_JobSeek'] = [\"{}-{}\".format(t1, t2) for t1, t2 in xtemp.index.values]\n",
    "xtemp = xtemp.reset_index(drop=True)\n",
    " \n",
    "xtemp.to_csv(data_dir + \"/datawrapper_q5.csv\", encoding=\"utf-8\", index=False)\n",
    "xtemp.head(5)\n"
   ]
  },
  {
   "cell_type": "markdown",
   "metadata": {},
   "source": [
    "# Final results and thoughts\n",
    "\n",
    "By running this Notebook multiple times, it seems each model tends to use one group of features more than others.\n",
    "If I would group them, maybe according to the perspective they use, one could build a voting with several of them. An example usage was prepared in Excel file \"Dr. Thomas Mustermann\" under the /data folder\n",
    "\n",
    "Here are some of the results and one way to categorize them:\n",
    "\n",
    "<pre>\n",
    "M0 (basics):\n",
    "                  feature      gewicht  wert  gewicht * wert\n",
    "0     JobFactors_Idealist -1961.051241   0.0       -0.000000\n",
    "1              Age1stCode  -557.237369  14.0    -7801.323169\n",
    "2                     Age   753.846503  26.0    19600.009069\n",
    "3             WorkWeekHrs   813.194034  35.0    28461.791181\n",
    "4            YearsCodePro   832.918086   3.0     2498.754259\n",
    "5    LanguageWorkedWith_C  1657.932921   0.0        0.000000\n",
    "6  NEWJobHunt_Stressedout  1907.220273   0.0        0.000000\n",
    "Intercept: 6024.849766773016\n",
    "\n",
    "\n",
    "\n",
    "M1 (self agency):\n",
    "                         feature       gewicht  wert  gewicht * wert\n",
    "0            Employment_Fulltime -11707.215313   1.0   -11707.215313\n",
    "1            Employment_Parttime -11495.308292   0.0       -0.000000\n",
    "2         NEWJobHunt_Stressedout  -1213.012403   1.0    -1213.012403\n",
    "3                     Age1stCode   -566.708411  16.0    -9067.334581\n",
    "4                            Age    760.060598  22.0    16721.333167\n",
    "5                    WorkWeekHrs    810.130523  40.0    32405.220923\n",
    "6                   YearsCodePro    825.149140   4.0     3300.596560\n",
    "7       LanguageWorkedWith_Other   1355.186825   1.0     1355.186825\n",
    "8             OrgSize_Empl50010k   2202.997805   0.0        0.000000\n",
    "9          JobFactors_Itsasecret   6601.157276   0.0        0.000000\n",
    "10               Country_Ireland   7993.587038   1.0     7993.587038\n",
    "11      PurchaseWhat_NoInfluence   9969.125399   0.0        0.000000\n",
    "12    PurchaseWhat_SomeInfluence  10515.170009   0.0        0.000000\n",
    "13  PurchaseWhat_StrongInfluence  10985.516219   1.0    10985.516219\n",
    "Intercept: 6099.068614290785\n",
    "\n",
    "\n",
    "M2 (company type):\n",
    "                      feature       gewicht  wert  gewicht * wert\n",
    "0     LanguageWorkedWith_Ruby  -3053.922851   0.0       -0.000000\n",
    "1      NEWJobHunt_Stressedout  -3007.289409   1.0    -3007.289409\n",
    "2             NEWLearn_Decade  -1964.082331   1.0    -1964.082331\n",
    "3   LanguageWorkedWith_Python  -1706.800874   1.0    -1706.800874\n",
    "4                  Age1stCode   -582.108276  17.0    -9895.840685\n",
    "5                         Age    766.853858  44.0    33741.569744\n",
    "6                YearsCodePro    808.072086  24.0    19393.730055\n",
    "7                 WorkWeekHrs    813.867590  40.0    32554.703595\n",
    "8        LanguageWorkedWith_R   1681.180494   0.0        0.000000\n",
    "9            NEWJobHunt_Nomad   2081.489149   0.0        0.000000\n",
    "10  LanguageWorkedWith_Kotlin   3626.508920   0.0        0.000000\n",
    "11          OrgSize_Empl20500   5998.250806   0.0        0.000000\n",
    "12           OrgSize_Empl10kp   6076.410573   1.0     6076.410573\n",
    "13            OrgSize_Empl219   7348.330435   0.0        0.000000\n",
    "14         OrgSize_Empl50010k   8189.637822   0.0        0.000000\n",
    "15         OrgSize_Onemanshow  11245.979826   0.0        0.000000\n",
    "Intercept: 629.2067373168551\n",
    "\n",
    "\n",
    "M3 (motivation to leave):\n",
    "                          feature       gewicht  wert  gewicht * wert\n",
    "0                 NEWJobHunt_Cash  -2767.574074   1.0    -2767.574074\n",
    "1                      Age1stCode   -555.775338  11.0    -6113.528716\n",
    "2                             Age    753.028907  39.0    29368.127360\n",
    "3                     WorkWeekHrs    809.261655  40.0    32370.466181\n",
    "4                    YearsCodePro    829.341895  20.0    16586.837903\n",
    "5               JobFactors_Career   2912.724872   0.0        0.000000\n",
    "6                 NEWLearn_Decade   3597.702589   0.0        0.000000\n",
    "7            JobFactors_TechSavvy   3640.654521   1.0     3640.654521\n",
    "8             JobFactors_Idealist   4166.844658   0.0        0.000000\n",
    "9           JobFactors_RemoteWork   4357.276258   1.0     4357.276258\n",
    "10     JobFactors_WorkEnvironment   4491.376295   0.0        0.000000\n",
    "11  JobFactors_FinancialStability   4633.074630   1.0     4633.074630\n",
    "12              JobFactors_Domain   4638.335559   0.0        0.000000\n",
    "13         JobFactors_Flexibility   5467.473922   0.0        0.000000\n",
    "14          JobFactors_FreeLaunch   6442.085779   0.0        0.000000\n",
    "15          JobFactors_Itsasecret  11207.558870   0.0        0.000000\n",
    "Intercept: -5448.61163866872\n",
    "\n",
    "\n",
    "M4 (Education):\n",
    "                                   feature      gewicht  wert  gewicht * wert\n",
    "0            JobFactors_FinancialStability -3184.227169   0.0       -0.000000\n",
    "1                          Country_Germany -3004.543762   0.0       -0.000000\n",
    "2                              JobSeek_Yes -2035.587895   1.0    -2035.587895\n",
    "3                LanguageWorkedWith_Python -1693.412132   1.0    -1693.412132\n",
    "4                           Country_Canada -1167.125908   0.0       -0.000000\n",
    "5                               Age1stCode  -572.221474  12.0    -6866.657687\n",
    "6                                      Age   747.233645  21.0    15691.906550\n",
    "7                              WorkWeekHrs   818.407615  20.0    16368.152293\n",
    "8                             YearsCodePro   829.337853   3.0     2488.013560\n",
    "9             PurchaseWhat_StrongInfluence   859.622732   0.0        0.000000\n",
    "10                        EdLevel_Doctoral  1131.355093   1.0     1131.355093\n",
    "11                           EdLevel_Other  1247.715858   0.0        0.000000\n",
    "12  LanguageWorkedWith_Bashshellpowershell  1424.287251   0.0        0.000000\n",
    "13                    LanguageWorkedWith_R  1511.521478   0.0        0.000000\n",
    "14                   JobFactors_FreeLaunch  4438.530800   0.0        0.000000\n",
    "Intercept: 7171.9486213802265\n",
    "\n",
    "</pre>"
   ]
  },
  {
   "cell_type": "markdown",
   "metadata": {},
   "source": [
    "## Bibliography\n",
    "\n",
    "\n",
    "<b>[1]</b> Workplace Perception and Job Satisfaction of Older Workers, Raab R. 2020\n",
    "\n",
    "\n",
    "<b>[2]</b> Perception of workload balance and employee job satisfaction in work organisations, Inegbedion H., Inegbedion E., Peter A. et al. 2020\n",
    "\n",
    "\n",
    "<b>[3]</b> Effects of proactive decision making on life satisfaction, Siebert J, Kunz R et al. 2020\n",
    "\n",
    "Websites:<br>\n",
    "<b>[1]</b> Data source: https://insights.stackoverflow.com/survey\n",
    "\n",
    "<b>[2]</b> Datawrapper for visualizations to add to the final blog post: https://app.datawrapper.de/"
   ]
  },
  {
   "cell_type": "markdown",
   "metadata": {},
   "source": [
    "# ANEXA"
   ]
  },
  {
   "cell_type": "markdown",
   "metadata": {},
   "source": [
    "# A. Example using the combination of 5 possible LM models"
   ]
  },
  {
   "cell_type": "markdown",
   "metadata": {},
   "source": [
    "#### Example usage of the excel file containing the 5 models to assess an imagined situation:\n",
    "\n",
    "Let’s consider following imaginary person, called now Dr. Thomas Mustermann (EdLevel_Doctoral = 1.0):\n",
    "He is 45 years old (Age=45), leaves in Canada (Country_Canada=1), started coding at age 14 (Age1stCode=14) with 25 years of professional coding experience; among known languages, he can name C, C++, Python, R, SQL ( LanguageWorkedWith_C=1)\n",
    "\n",
    "Dr Mustermann hopes to make an impact with his work (JobFactors_Idealist=1); he’s working currently 42 hours a week but lately things don’t work as he hoped for. Problems with some managers made him decide for a change (JobSeek_Yes = 1). \n",
    "\n",
    "<b> => His M0, <i>basics score</i> is 81,223.08 $ </b>\n",
    "\n",
    "Since he’s programming at home as a hobby, he’s got some experience with languages like JavaScript, HTML/CSS ( LanguageWorkedWith_Other = 1). He thinks a good sized company would be around 500 to 10k and the industry domain is important (JobFactors_Domain =1). When new software tools get considered, he has a strong influence in decision making ( PurchaseWhat_NoInfluence = 1.0)\n",
    "\n",
    "<b> => His M1, <i>self agency score</i> is 88,857.47 $ </b>\n",
    "\n",
    "Since he’s gathered enough experience, he is learning a new programming language much slowly now ( NEWLearn_Decade  = 1.0). He doesn’t have interest in working with new technologies, since he already knows those that are new and wants to improve himself in this area ( NEWJobHunt_Nomad  = 0)\n",
    "\n",
    "<b> => His M2, <i>company type</i> score is 83,935.79 $ </b>\n",
    "\n",
    "When it comes to job benefits he thinks remote work, flexibility and a good working environment are very important. Additionale family friendly companies are preferred (JobFactors_RemoteWork=1, JobFactors_WorkEnvironment=1, JobFactors_Flexibility=1, JobFactors_FreeLaunch=1)\n",
    "\n",
    "<b> => His M3, <i>motivation to leave</i> score is 114,032.03 $ </b>\n",
    "\n",
    "His education includes all academic steps up to doctoral degree.<br>\n",
    "<b> => His M4, <i>education</i> score is 92,362.12 $ </b>\n",
    "\n",
    "Finally the price he should have as the minimum (fair price)<br>\n",
    "<b>\t=> 92,012.09 $ </b>\n",
    "\n",
    "Anything above is negotiation skills. Since the Models have about 27k root mean squared error, this means the maximum price he could get would be: 119,012.09 $\n",
    "\n",
    "\n"
   ]
  },
  {
   "cell_type": "code",
   "execution_count": null,
   "metadata": {},
   "outputs": [],
   "source": []
  }
 ],
 "metadata": {
  "kernelspec": {
   "display_name": "Python 3",
   "language": "python",
   "name": "python3"
  },
  "language_info": {
   "codemirror_mode": {
    "name": "ipython",
    "version": 3
   },
   "file_extension": ".py",
   "mimetype": "text/x-python",
   "name": "python",
   "nbconvert_exporter": "python",
   "pygments_lexer": "ipython3",
   "version": "3.7.6"
  }
 },
 "nbformat": 4,
 "nbformat_minor": 4
}
